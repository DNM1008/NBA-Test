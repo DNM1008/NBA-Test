{
 "cells": [
  {
   "cell_type": "code",
   "execution_count": 2,
   "id": "f4431669-23fb-4e93-9dee-64b1054a3ada",
   "metadata": {},
   "outputs": [],
   "source": [
    "import pandas as pd\n",
    "import numpy as np\n",
    "from sklearn.preprocessing import StandardScaler, OneHotEncoder\n",
    "from sklearn.compose import ColumnTransformer\n",
    "from sklearn.metrics.pairwise import cosine_similarity\n",
    "from annoy import AnnoyIndex\n",
    "\n",
    "# Load and preprocess the data\n",
    "def load_data(file_path):\n",
    "    return pd.read_csv(file_path)\n",
    "\n",
    "def preprocess_data(df):\n",
    "    # Separate categorical and numerical columns\n",
    "    categorical_cols = df.select_dtypes(include=['object']).columns\n",
    "    numerical_cols = df.select_dtypes(exclude=['object']).columns\n",
    "    \n",
    "    # Preprocess with OneHotEncoder and StandardScaler\n",
    "    preprocessor = ColumnTransformer(\n",
    "        transformers=[\n",
    "            ('num', StandardScaler(), numerical_cols),\n",
    "            ('cat', OneHotEncoder(handle_unknown='ignore'), categorical_cols)\n",
    "        ])\n",
    "    \n",
    "    processed_data = preprocessor.fit_transform(df)\n",
    "    return processed_data, preprocessor\n",
    "\n",
    "# Annoy search setup and query function\n",
    "def create_annoy_index(data_matrix, metric='angular'):\n",
    "    dim = data_matrix.shape[1]\n",
    "    index = AnnoyIndex(dim, metric)  # Use 'angular' for cosine similarity\n",
    "    \n",
    "    for i in range(len(data_matrix)):\n",
    "        index.add_item(i, data_matrix[i].tolist())  # Convert each row to list for Annoy\n",
    "    \n",
    "    index.build(10)  # Use 10 trees, can increase for higher accuracy\n",
    "    return index\n",
    "\n",
    "def find_top_k_similar(index, query_vector, k=10):\n",
    "    indices, distances = index.get_nns_by_vector(query_vector.flatten().tolist(), k, include_distances=True)\n",
    "    return indices, distances\n",
    "\n",
    "\n"
   ]
  },
  {
   "cell_type": "code",
   "execution_count": null,
   "id": "ce08ab49-3078-4442-ad71-b538c582552d",
   "metadata": {},
   "outputs": [],
   "source": [
    "# Main program\n",
    "def main():\n",
    "    # Load and preprocess data\n",
    "    df = load_data(\"large_dataset.csv\")\n",
    "    data_matrix, preprocessor = preprocess_data(df)\n",
    "    \n",
    "    # Create FAISS index\n",
    "    index = create_faiss_index(data_matrix)\n",
    "    \n",
    "    # Define a new data point for the query\n",
    "    new_data_point = {\"column1\": \"value1\", \"column2\": \"value2\", ...}  # Replace with actual values\n",
    "    new_data_df = pd.DataFrame([new_data_point])\n",
    "    query_vector = preprocessor.transform(new_data_df).toarray()\n",
    "    \n",
    "    # Find top 10 similar rows\n",
    "    indices, distances = find_top_k_similar(index, query_vector)\n",
    "    \n",
    "    # Output the most similar rows\n",
    "    print(\"Top 10 similar rows:\")\n",
    "    print(df.iloc[indices])\n",
    "\n",
    "if __name__ == \"__main__\":\n",
    "    main()\n"
   ]
  }
 ],
 "metadata": {
  "kernelspec": {
   "display_name": "Python 3 (ipykernel)",
   "language": "python",
   "name": "python3"
  },
  "language_info": {
   "codemirror_mode": {
    "name": "ipython",
    "version": 3
   },
   "file_extension": ".py",
   "mimetype": "text/x-python",
   "name": "python",
   "nbconvert_exporter": "python",
   "pygments_lexer": "ipython3",
   "version": "3.12.7"
  }
 },
 "nbformat": 4,
 "nbformat_minor": 5
}
