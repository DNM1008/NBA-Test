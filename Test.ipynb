{
 "cells": [
  {
   "cell_type": "code",
   "execution_count": 2,
   "id": "2b44792c-a05d-427b-b909-9484d559567f",
   "metadata": {},
   "outputs": [
    {
     "name": "stdout",
     "output_type": "stream",
     "text": [
      "Removed columns: {'D', 'C'}\n",
      "Filtered train_df:\n",
      "   A  B\n",
      "0  1  4\n",
      "1  2  5\n",
      "2  3  6\n",
      "Filtered test_df:\n",
      "   A   B\n",
      "0  1   4\n",
      "1  2   5\n",
      "2  3  10\n"
     ]
    }
   ],
   "source": [
    "import pandas as pd\n",
    "\n",
    "# Example DataFrames\n",
    "train_df = pd.DataFrame({'A': [1, 2, 3], 'B': [4, 5, 6], 'C': [7, 8, 9]})\n",
    "test_df = pd.DataFrame({'A': [1, 2, 3], 'B': [4, 5, 10], 'D': [11, 12, 13]})\n",
    "\n",
    "# Find common columns\n",
    "common_columns = train_df.columns.intersection(test_df.columns)\n",
    "\n",
    "# Drop uncommon columns\n",
    "removed_columns = set(train_df.columns).symmetric_difference(test_df.columns)\n",
    "train_df_filtered = train_df[common_columns]\n",
    "test_df_filtered = test_df[common_columns]\n",
    "\n",
    "# Print removed columns\n",
    "print(\"Removed columns:\", removed_columns)\n",
    "\n",
    "# Resultant DataFrames\n",
    "print(\"Filtered train_df:\")\n",
    "print(train_df_filtered)\n",
    "\n",
    "print(\"Filtered test_df:\")\n",
    "print(test_df_filtered)\n"
   ]
  },
  {
   "cell_type": "code",
   "execution_count": null,
   "id": "21f42b40-d227-4c0d-8883-8a95add5f203",
   "metadata": {},
   "outputs": [],
   "source": []
  }
 ],
 "metadata": {
  "kernelspec": {
   "display_name": "Python 3 (ipykernel)",
   "language": "python",
   "name": "python3"
  },
  "language_info": {
   "codemirror_mode": {
    "name": "ipython",
    "version": 3
   },
   "file_extension": ".py",
   "mimetype": "text/x-python",
   "name": "python",
   "nbconvert_exporter": "python",
   "pygments_lexer": "ipython3",
   "version": "3.12.7"
  }
 },
 "nbformat": 4,
 "nbformat_minor": 5
}
