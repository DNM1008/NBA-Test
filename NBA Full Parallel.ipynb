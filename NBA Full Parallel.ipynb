{
 "cells": [
  {
   "cell_type": "code",
   "execution_count": 2,
   "id": "bd0d24dd-6b29-45ec-8013-fab8a6cac200",
   "metadata": {},
   "outputs": [],
   "source": [
    "from annoy import AnnoyIndex\n",
    "from concurrent.futures import ThreadPoolExecutor\n",
    "from sklearn.compose import ColumnTransformer\n",
    "from sklearn.impute import SimpleImputer\n",
    "from sklearn.metrics import accuracy_score, auc, classification_report, roc_auc_score, roc_curve\n",
    "from sklearn.metrics.pairwise import cosine_similarity\n",
    "from sklearn.model_selection import train_test_split, RandomizedSearchCV\n",
    "from sklearn.pipeline import Pipeline\n",
    "from sklearn.preprocessing import OneHotEncoder, StandardScaler\n",
    "import dill\n",
    "import matplotlib.pyplot as plt\n",
    "import numpy as np\n",
    "import pickle\n",
    "import pprint\n",
    "import pandas as pd\n",
    "import xgboost as xgb"
   ]
  },
  {
   "cell_type": "code",
   "execution_count": 3,
   "id": "8bc572b9-0ef5-4ef6-9b20-5d3ae3fa1266",
   "metadata": {},
   "outputs": [],
   "source": [
    "train_df = pd.read_csv('data.csv')\n",
    "test_df = pd.read_parquet('data-val.parquet')"
   ]
  },
  {
   "cell_type": "code",
   "execution_count": 4,
   "id": "12196a84-097a-4467-b796-18da0fc411e2",
   "metadata": {},
   "outputs": [
    {
     "name": "stdout",
     "output_type": "stream",
     "text": [
      "Removed columns: {'SUM_NOT_TRANSFER_3m', 'Unnamed: 0.1', 'SUM_AMT_TRANSFER_3m'}\n"
     ]
    }
   ],
   "source": [
    "## Make sure that the dataset \n",
    "\n",
    "# Find common columns\n",
    "common_columns = train_df.columns.intersection(test_df.columns)\n",
    "\n",
    "# Drop uncommon columns\n",
    "removed_columns = set(train_df.columns).symmetric_difference(test_df.columns)\n",
    "train_df_filtered = train_df[common_columns]\n",
    "test_df_filtered = test_df[common_columns]\n",
    "\n",
    "# Print removed columns\n",
    "print(\"Removed columns:\", removed_columns)"
   ]
  },
  {
   "cell_type": "code",
   "execution_count": 5,
   "id": "d8479343-e089-43c2-8c74-95448a1c8382",
   "metadata": {},
   "outputs": [
    {
     "name": "stdout",
     "output_type": "stream",
     "text": [
      "Train data: 57\n",
      "Test data: 57\n"
     ]
    }
   ],
   "source": [
    "# Comparing number of columns\n",
    "print(\"Train data:\", train_df_filtered.shape[1])\n",
    "print(\"Test data:\", test_df_filtered.shape[1])"
   ]
  },
  {
   "cell_type": "code",
   "execution_count": 6,
   "id": "a2130e87-821b-407f-bc84-8899c21ff311",
   "metadata": {},
   "outputs": [],
   "source": [
    "## Dropping irrelavant columns\n",
    "\n",
    "# Train_data\n",
    "train_df_filtered = train_df_filtered.drop(columns=['Age_x','CIF_CLSCUS', 'COB_DATE', 'DATE_TIME', 'BRN_OPN_CIF', 'MA_PHONG_GIAO_DICH_VCB', 'CIF_MASK', 'IS_TM', 'Unnamed: 0', 'SUM_CBALQ_LH_6m', 'SUM_CBALQ_LH_3m', 'AVG_GR_SUM_CBALQ_LH'])\n",
    "\n",
    "# Test_data \n",
    "test_df_filtered = test_df_filtered.drop(columns=['Age_x','CIF_CLSCUS', 'COB_DATE', 'DATE_TIME', 'BRN_OPN_CIF', 'MA_PHONG_GIAO_DICH_VCB', 'CIF_MASK', 'IS_TM', 'Unnamed: 0', 'SUM_CBALQ_LH_6m', 'SUM_CBALQ_LH_3m', 'AVG_GR_SUM_CBALQ_LH'])"
   ]
  },
  {
   "cell_type": "code",
   "execution_count": 7,
   "id": "788cde3a-78d1-47a7-9ce4-085404b59395",
   "metadata": {},
   "outputs": [
    {
     "name": "stdout",
     "output_type": "stream",
     "text": [
      "Train data: 45\n",
      "Test data: 45\n",
      "Selected columns:\n",
      " Index(['CBALQ_3m', 'AVG_SL_SP_BOSUNG', 'NO_TREN_CO_6m',\n",
      "       'LOAIHINHCOQUANDANGCONGTAC', 'SUM_CBALQ_LH', 'BHNT_flag',\n",
      "       'MEDIAN_GR_SUM_AMT', 'TINHTRANGSOHUUNHA', 'TINHTRANGHONNHAN', 'Khu_vuc',\n",
      "       'BHNT_after21', 'Sum_PPC', 'MEDIAN_GR_THGCO', 'BHSK_remain',\n",
      "       'IS_BANCAS', 'AVG_GR_CBALQ', 'CBALQ_6m', 'AVG_CBALQ_6m', 'BHNT_remain',\n",
      "       'AVG_GR_THGCO', 'IS_TM.1', 'Age_y', 'THGCO_3m', 'CNT_TGCCKH',\n",
      "       'THGNO_6m', 'IS_TA', 'TONGTHUNHAPHANGTHANG', 'Snapshot', 'BHSK_flag',\n",
      "       'THGCO_6m', 'MEDIAN_GR_CBALQ', 'AVG_CBALQ_TGCCKH', 'THGNO_3m',\n",
      "       'TINHCHATCONGVIECHIENTAI', 'AVG_AMT_3M', 'NO_TREN_CO_3m',\n",
      "       'AVG_CBALQ_3m', 'Prio_flag', 'SONGUOIPHUTHUOC', 'THOIGIANLAMVIECLVHT',\n",
      "       'BHSK_after21', 'Payroll_Flag', 'AVG_GR_THGNO', 'CUS_GEN',\n",
      "       'MEDIAN_GR_THGNO'],\n",
      "      dtype='object')\n"
     ]
    }
   ],
   "source": [
    "# Comparing number of columns\n",
    "print(\"Train data:\", train_df_filtered.shape[1])\n",
    "print(\"Test data:\", test_df_filtered.shape[1])\n",
    "print('Selected columns:\\n', test_df_filtered.columns)"
   ]
  },
  {
   "cell_type": "code",
   "execution_count": 8,
   "id": "428f5b37-85aa-4b96-b2da-4a66e1269e4f",
   "metadata": {},
   "outputs": [
    {
     "name": "stderr",
     "output_type": "stream",
     "text": [
      "/home/zeus/.local/lib/python3.12/site-packages/numpy/lib/_function_base_impl.py:4620: RuntimeWarning: invalid value encountered in subtract\n",
      "  diff_b_a = subtract(b, a)\n",
      "/home/zeus/.local/lib/python3.12/site-packages/numpy/lib/_function_base_impl.py:4620: RuntimeWarning: invalid value encountered in subtract\n",
      "  diff_b_a = subtract(b, a)\n",
      "/home/zeus/.local/lib/python3.12/site-packages/numpy/lib/_function_base_impl.py:4620: RuntimeWarning: invalid value encountered in subtract\n",
      "  diff_b_a = subtract(b, a)\n",
      "/home/zeus/.local/lib/python3.12/site-packages/numpy/lib/_function_base_impl.py:4620: RuntimeWarning: invalid value encountered in subtract\n",
      "  diff_b_a = subtract(b, a)\n",
      "/home/zeus/.local/lib/python3.12/site-packages/numpy/lib/_function_base_impl.py:4620: RuntimeWarning: invalid value encountered in subtract\n",
      "  diff_b_a = subtract(b, a)\n",
      "/home/zeus/.local/lib/python3.12/site-packages/numpy/lib/_function_base_impl.py:4620: RuntimeWarning: invalid value encountered in subtract\n",
      "  diff_b_a = subtract(b, a)\n",
      "/home/zeus/.local/lib/python3.12/site-packages/numpy/lib/_function_base_impl.py:4620: RuntimeWarning: invalid value encountered in subtract\n",
      "  diff_b_a = subtract(b, a)\n",
      "/home/zeus/.local/lib/python3.12/site-packages/numpy/lib/_function_base_impl.py:4620: RuntimeWarning: invalid value encountered in subtract\n",
      "  diff_b_a = subtract(b, a)\n",
      "/home/zeus/.local/lib/python3.12/site-packages/numpy/lib/_function_base_impl.py:4620: RuntimeWarning: invalid value encountered in subtract\n",
      "  diff_b_a = subtract(b, a)\n",
      "/home/zeus/.local/lib/python3.12/site-packages/numpy/lib/_function_base_impl.py:4620: RuntimeWarning: invalid value encountered in subtract\n",
      "  diff_b_a = subtract(b, a)\n",
      "/home/zeus/.local/lib/python3.12/site-packages/numpy/lib/_function_base_impl.py:4620: RuntimeWarning: invalid value encountered in subtract\n",
      "  diff_b_a = subtract(b, a)\n",
      "/home/zeus/.local/lib/python3.12/site-packages/numpy/lib/_function_base_impl.py:4620: RuntimeWarning: invalid value encountered in subtract\n",
      "  diff_b_a = subtract(b, a)\n",
      "/home/zeus/.local/lib/python3.12/site-packages/numpy/lib/_function_base_impl.py:4620: RuntimeWarning: invalid value encountered in subtract\n",
      "  diff_b_a = subtract(b, a)\n",
      "/home/zeus/.local/lib/python3.12/site-packages/numpy/lib/_function_base_impl.py:4620: RuntimeWarning: invalid value encountered in subtract\n",
      "  diff_b_a = subtract(b, a)\n",
      "/home/zeus/.local/lib/python3.12/site-packages/numpy/lib/_function_base_impl.py:4620: RuntimeWarning: invalid value encountered in subtract\n",
      "  diff_b_a = subtract(b, a)\n",
      "/home/zeus/.local/lib/python3.12/site-packages/numpy/lib/_function_base_impl.py:4620: RuntimeWarning: invalid value encountered in subtract\n",
      "  diff_b_a = subtract(b, a)\n",
      "/home/zeus/.local/lib/python3.12/site-packages/numpy/lib/_function_base_impl.py:4620: RuntimeWarning: invalid value encountered in subtract\n",
      "  diff_b_a = subtract(b, a)\n",
      "/home/zeus/.local/lib/python3.12/site-packages/numpy/lib/_function_base_impl.py:4620: RuntimeWarning: invalid value encountered in subtract\n",
      "  diff_b_a = subtract(b, a)\n"
     ]
    }
   ],
   "source": [
    "## Labelling\n",
    "def labelling (df, col, num_bins):\n",
    "    df[col] = pd.qcut(df[col], q=num_bins, labels=False, duplicates='drop')\n",
    "    return df\n",
    "for col in ['AVG_AMT_3M', 'AVG_CBALQ_3m', 'AVG_CBALQ_6m', 'AVG_CBALQ_TGCCKH',\n",
    "       'AVG_GR_CBALQ', 'AVG_GR_THGCO', 'AVG_GR_THGNO', 'AVG_SL_SP_BOSUNG',\n",
    "        'CBALQ_3m', 'CBALQ_6m', 'CNT_TGCCKH', 'MEDIAN_GR_CBALQ',\n",
    "       'MEDIAN_GR_SUM_AMT', 'MEDIAN_GR_THGCO', 'MEDIAN_GR_THGNO',\n",
    "       'NO_TREN_CO_3m', 'NO_TREN_CO_6m', 'SUM_CBALQ_LH', 'Snapshot', 'Sum_PPC',\n",
    "       'THGCO_3m', 'THGCO_6m', 'THGNO_3m', 'THGNO_6m', 'TONGTHUNHAPHANGTHANG']:\n",
    "    train_df = labelling(train_df_filtered, col, 10)\n",
    "    test_df = labelling(test_df_filtered, col, 10)\n",
    "\n",
    "age_bin_edges = [0, 20, 25, 30, 35, 40, 45, 50, 55, 60, float('inf')]\n",
    "labels = ['Duoi 20', '20 toi 24', '25 toi 29', '30 toi 34', '35 toi 39', '40 toi 44', '45 toi 49', '50 toi 54', '55 toi 59', 'Tren 60']\n",
    "\n",
    "train_df['Age_group'] = pd.cut(train_df['Age_y'], bins=age_bin_edges, labels=labels, right=False)\n",
    "test_df['Age_group'] = pd.cut(test_df['Age_y'], bins=age_bin_edges, labels=labels, right=False)"
   ]
  },
  {
   "cell_type": "code",
   "execution_count": 9,
   "id": "9844ff1b-3dba-4b0e-b1f1-8120e253101a",
   "metadata": {},
   "outputs": [],
   "source": [
    "## Collaborative search\n",
    "\n",
    "# Step 1: Handle missing values and ensure consistent data types\n",
    "def handle_missing_values(df):\n",
    "    df = df.astype(str)\n",
    "    df = df.fillna(\"None\")\n",
    "    return df\n",
    "\n",
    "# Step 2: Preprocess - Encoding categorical variables\n",
    "def preprocess_data(df, target_column, transformer=None):\n",
    "    # Separate features (X) and target (y)\n",
    "    X = df.drop(columns=[target_column])\n",
    "    y = df[target_column]\n",
    "    \n",
    "    # Reset indices for alignment with Annoy\n",
    "    X = X.reset_index(drop=True)\n",
    "    y = y.reset_index(drop=True)\n",
    "    \n",
    "    # Handle missing values and ensure consistent data types\n",
    "    X = handle_missing_values(X)\n",
    "\n",
    "    if transformer is None:\n",
    "        transformer = ColumnTransformer(\n",
    "            transformers=[\n",
    "                ('cat', OneHotEncoder(sparse_output=False, handle_unknown='ignore'), X.columns.tolist())\n",
    "            ],\n",
    "            remainder='passthrough'\n",
    "        )\n",
    "        transformer.fit(X)\n",
    "    \n",
    "    # Transform features\n",
    "    X_transformed = transformer.transform(X)\n",
    "    return X_transformed.astype(np.float32), y.astype(float), transformer\n",
    "\n",
    "# Step 3: Create Annoy Index\n",
    "def create_annoy_index(df, target_column, n_neighbors=20):\n",
    "    # Preprocess the data and separate features and target\n",
    "    X, y, transformer = preprocess_data(df, target_column)\n",
    "    \n",
    "    # Initialize Annoy index\n",
    "    annoy_index = AnnoyIndex(X.shape[1], 'angular')\n",
    "    \n",
    "    # Add items to the Annoy index\n",
    "    for i, vector in enumerate(X):\n",
    "        annoy_index.add_item(i, vector)\n",
    "    \n",
    "    # Build the index\n",
    "    annoy_index.build(100)\n",
    "    \n",
    "    return annoy_index, X, y, transformer  # Return y for later use\n",
    "    \n",
    "def predict_nba_parallel(df, target_column, annoy_index, transformer, y_train, n_neighbors=20, n_jobs=4):\n",
    "    # Preprocess the data and separate features\n",
    "    X, y, _ = preprocess_data(df, target_column, transformer)\n",
    "    \n",
    "    # Function to process a single observation\n",
    "    def process_vector(test_vector):\n",
    "        nearest_neighbors = annoy_index.get_nns_by_vector(test_vector, n_neighbors)  # Find neighbors\n",
    "        similar_train_data = y_train.iloc[nearest_neighbors]  # Use y_train directly\n",
    "        return similar_train_data.mean()  # Average for prediction\n",
    "    \n",
    "    # Parallelize using ThreadPoolExecutor\n",
    "    with ThreadPoolExecutor(max_workers=n_jobs) as executor:\n",
    "        y_pred = list(executor.map(process_vector, X))\n",
    "    \n",
    "    return np.array(y_pred)\n",
    "\n"
   ]
  },
  {
   "cell_type": "code",
   "execution_count": 10,
   "id": "1366ad3f-432e-4bb8-9ef4-6f084ecbcbef",
   "metadata": {},
   "outputs": [],
   "source": [
    "# Training\n",
    "target_column = 'IS_BANCAS'\n",
    "annoy_index, _, y_train, transformer = create_annoy_index(train_df, target_column)\n",
    "\n",
    "# Save the Annoy index to a file\n",
    "annoy_index.save('results/annoy_index.ann')\n",
    "\n",
    "# Save the transformer, y_train, and the function using dill\n",
    "with open('results/collaborative_search_model_with_parallel.pkl', 'wb') as f:\n",
    "    dill.dump({\n",
    "        'transformer': transformer,\n",
    "        'y_train': y_train,\n",
    "        'predict_nba_parallel': predict_nba_parallel  # Save the function\n",
    "    }, f)"
   ]
  },
  {
   "cell_type": "code",
   "execution_count": 11,
   "id": "e18114a1-e7fe-4a9a-8895-4794979aa827",
   "metadata": {},
   "outputs": [],
   "source": [
    "# Testing\n",
    "\n",
    "## On training data\n",
    "\n",
    "### Collaborative search\n",
    "y_pred_col_train = predict_nba_parallel(train_df, target_column, annoy_index, transformer, y_train)\n",
    "y_pred_col_train_round = y_pred_col_train.round()\n",
    "\n",
    "## On testing data\n",
    "y_pred_col_test = predict_nba_parallel(test_df, target_column, annoy_index, transformer, y_train)\n",
    "y_pred_col_test_round = y_pred_col_test.round()"
   ]
  },
  {
   "cell_type": "code",
   "execution_count": 12,
   "id": "1829645e-9507-41c8-8955-0344ff3e6711",
   "metadata": {},
   "outputs": [],
   "source": [
    "y_test = test_df[target_column]"
   ]
  },
  {
   "cell_type": "code",
   "execution_count": 13,
   "id": "df8530e7-7330-41c3-97c2-8c2ad397a5a0",
   "metadata": {},
   "outputs": [
    {
     "name": "stdout",
     "output_type": "stream",
     "text": [
      "\n",
      "TESTING ON TRAINING DATA:\n",
      "\n",
      "Model Accuracy: 95.85000000000001\n",
      "\n",
      "Classification Report:\n",
      "              precision    recall  f1-score   support\n",
      "\n",
      "         0.0       0.97      0.99      0.98   1036620\n",
      "         1.0       0.63      0.31      0.41     51831\n",
      "\n",
      "    accuracy                           0.96   1088451\n",
      "   macro avg       0.80      0.65      0.70   1088451\n",
      "weighted avg       0.95      0.96      0.95   1088451\n",
      "\n",
      "ROC AUC Score: 0.93\n",
      "Gini Index: 0.85\n",
      "\n",
      "TESTING ON TESTING DATA:\n",
      "\n",
      "Model Accuracy: 95.00999999999999%\n",
      "\n",
      "Classification Report:\n",
      "              precision    recall  f1-score   support\n",
      "\n",
      "         0.0       0.96      0.99      0.97    130200\n",
      "         1.0       0.43      0.15      0.23      6510\n",
      "\n",
      "    accuracy                           0.95    136710\n",
      "   macro avg       0.70      0.57      0.60    136710\n",
      "weighted avg       0.93      0.95      0.94    136710\n",
      "\n",
      "ROC AUC Score: 0.75\n",
      "Gini Index: 0.5\n"
     ]
    }
   ],
   "source": [
    "# Reporting\n",
    "\n",
    "## On training data\n",
    "print('\\nTESTING ON TRAINING DATA:\\n')\n",
    "\n",
    "\n",
    "\n",
    "accuracy_col_train = accuracy_score(y_train, y_pred_col_train_round)\n",
    "accuracy_col_train = round(accuracy_col_train, 4)\n",
    "roc_auc_score_col_train = roc_auc_score(y_train, y_pred_col_train)\n",
    "gini_col_train = 2 * roc_auc_score_col_train -1\n",
    "\n",
    "print('Model Accuracy:', str(accuracy_col_train * 100))\n",
    "print('\\nClassification Report:')\n",
    "print(classification_report(y_train, y_pred_col_train_round))\n",
    "print(\"ROC AUC Score:\", roc_auc_score_col_train.round(2))\n",
    "print(\"Gini Index:\", gini_col_train.round(2))\n",
    "\n",
    "\n",
    "## On testing data\n",
    "print('\\nTESTING ON TESTING DATA:\\n')\n",
    "\n",
    "\n",
    "\n",
    "accuracy_col_test = accuracy_score(y_test, y_pred_col_test_round)\n",
    "accuracy_col_test = round(accuracy_col_test, 4)\n",
    "roc_auc_score_col_test = roc_auc_score(y_test, y_pred_col_test)\n",
    "gini_col_test = 2 * roc_auc_score_col_test -1\n",
    "\n",
    "print('Model Accuracy:', str(accuracy_col_test * 100) + '%')\n",
    "print('\\nClassification Report:')\n",
    "print(classification_report(y_test, y_pred_col_test_round))\n",
    "print(\"ROC AUC Score:\", roc_auc_score_col_test.round(2))\n",
    "print(\"Gini Index:\", gini_col_test.round(2))\n"
   ]
  },
  {
   "cell_type": "code",
   "execution_count": 14,
   "id": "61f597d2-8684-4b01-9c4f-49eedb383f80",
   "metadata": {},
   "outputs": [],
   "source": [
    "# ROC Curves\n",
    "\n",
    "## Train data\n",
    "fpr_train, tpr_train, thresholds_train = roc_curve(y_train, y_pred_col_train)\n",
    "roc_auc_train = auc(fpr_train, tpr_train)\n",
    "\n",
    "# Insert root point (0,0) into fpr and tpr\n",
    "fpr_train = [0] + list(fpr_train)\n",
    "tpr_train = [0] + list(tpr_train)\n",
    "\n",
    "## Test data\n",
    "fpr_test, tpr_test, thresholds_test = roc_curve(y_test, y_pred_col_test)\n",
    "roc_auc_test = auc(fpr_test, tpr_test)\n",
    "\n",
    "# Insert root point (0,0) into fpr and tpr\n",
    "fpr_test = [0] + list(fpr_test)\n",
    "tpr_test = [0] + list(tpr_test)"
   ]
  },
  {
   "cell_type": "code",
   "execution_count": 15,
   "id": "18f28d49-a172-4951-b9c7-afb466e8f849",
   "metadata": {},
   "outputs": [],
   "source": [
    "# Colours\n",
    "background_color = '#181926'\n",
    "text_colour = \"#cad3f5\"\n",
    "axis_colour = \"#b8c0e0\"\n",
    "guess_colour = '#8aadf4'\n",
    "roc_train_colour = \"#f0c6c6\"\n",
    "roc_test_colour = \"#91d7e3\"\n"
   ]
  },
  {
   "cell_type": "code",
<<<<<<< HEAD
<<<<<<< HEAD
<<<<<<< HEAD
   "execution_count": 16,
||||||| 623aedd
   "execution_count": 17,
=======
   "execution_count": 18,
>>>>>>> 70dd9a967763945df50a79ddf407886e41adeb80
||||||| 623aedd
   "execution_count": 17,
=======
   "execution_count": 18,
>>>>>>> 70dd9a967763945df50a79ddf407886e41adeb80
||||||| 623aedd
   "execution_count": 17,
=======
   "execution_count": 18,
>>>>>>> 70dd9a967763945df50a79ddf407886e41adeb80
   "id": "b180acc5-74b1-4773-9672-6fe5669de2ed",
   "metadata": {},
   "outputs": [
    {
     "data": {
      "image/png": "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",
      "text/plain": [
       "<Figure size 1000x800 with 1 Axes>"
      ]
     },
     "metadata": {},
     "output_type": "display_data"
    }
   ],
   "source": [
    "# Setting up the plot\n",
    "plt.figure(figsize=(10, 8), facecolor=background_color)\n",
    "ax = plt.gca()  # Get the current Axes\n",
    "ax.set_facecolor(background_color)  # Set the background color of the Axes\n",
    "\n",
    "# Customize axis colors\n",
    "ax.tick_params(axis='x', colors=axis_colour)  # Set x-axis tick color\n",
    "ax.tick_params(axis='y', colors=axis_colour)  # Set y-axis tick color\n",
    "ax.spines['bottom'].set_color(axis_colour)  # Set bottom spine color\n",
    "ax.spines['left'].set_color(axis_colour)    # Set left spine color\n",
    "ax.spines['top'].set_color(axis_colour)  # Set bottom spine color\n",
    "ax.spines['right'].set_color(axis_colour)    # Set left spine color\n",
    "\n",
    "# Plotting\n",
    "\n",
    "# Plot the ROC curve\n",
    "plt.plot(fpr_train, tpr_train, color=roc_train_colour, label=f'Train Data ROC Curve (AUC = {roc_auc_train:.2f})')\n",
    "plt.plot(fpr_test, tpr_test, color=roc_test_colour, label=f'Test data ROC Curve (AUC = {roc_auc_test:.2f})')\n",
    "plt.plot([0, 1], [0, 1], color=guess_colour, linestyle='--', label='Random Guess')\n",
    "plt.xlabel('False Positive Rate', color=text_colour)  # White text for better contrast\n",
    "plt.ylabel('True Positive Rate', color=text_colour)  # White text for better contrast\n",
    "plt.title('Next Best Action Receiver Operating Characteristic (ROC) Curve', color=text_colour)\n",
    "plt.legend(loc='lower right', facecolor=background_color, edgecolor=text_colour, labelcolor=text_colour)\n",
    "plt.grid(alpha=0.1, color=axis_colour)  # Adjust grid line color for visibility\n",
    "\n",
    "# Set the x and y limits to start at 0\n",
    "plt.xlim(0, 1)  # x-axis starts at 0\n",
    "plt.ylim(0, 1)  # y-axis starts at 0\n",
    "\n",
    "plt.savefig('results/NBA_ROC.png')\n",
    "plt.show()"
   ]
<<<<<<< HEAD
<<<<<<< HEAD
<<<<<<< HEAD
  },
  {
   "cell_type": "code",
   "execution_count": null,
   "id": "00b9abfa-d4bc-4260-b666-af32e8ce7dd4",
   "metadata": {},
   "outputs": [],
   "source": []
||||||| 623aedd
  },
  {
   "cell_type": "code",
   "execution_count": null,
   "id": "5bcf7b29-dba6-46fe-b6b9-6daa0ac17d27",
   "metadata": {},
   "outputs": [],
   "source": []
=======
>>>>>>> 70dd9a967763945df50a79ddf407886e41adeb80
||||||| 623aedd
  },
  {
   "cell_type": "code",
   "execution_count": null,
   "id": "5bcf7b29-dba6-46fe-b6b9-6daa0ac17d27",
   "metadata": {},
   "outputs": [],
   "source": []
=======
>>>>>>> 70dd9a967763945df50a79ddf407886e41adeb80
||||||| 623aedd
  },
  {
   "cell_type": "code",
   "execution_count": null,
   "id": "5bcf7b29-dba6-46fe-b6b9-6daa0ac17d27",
   "metadata": {},
   "outputs": [],
   "source": []
=======
>>>>>>> 70dd9a967763945df50a79ddf407886e41adeb80
  }
 ],
 "metadata": {
  "kernelspec": {
   "display_name": "Python 3 (ipykernel)",
   "language": "python",
   "name": "python3"
  },
  "language_info": {
   "codemirror_mode": {
    "name": "ipython",
    "version": 3
   },
   "file_extension": ".py",
   "mimetype": "text/x-python",
   "name": "python",
   "nbconvert_exporter": "python",
   "pygments_lexer": "ipython3",
   "version": "3.12.7"
  }
 },
 "nbformat": 4,
 "nbformat_minor": 5
}
