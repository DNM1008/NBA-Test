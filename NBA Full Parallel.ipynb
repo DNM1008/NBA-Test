{
 "cells": [
  {
   "cell_type": "code",
   "execution_count": 1,
   "id": "bd0d24dd-6b29-45ec-8013-fab8a6cac200",
   "metadata": {
    "execution": {
     "iopub.execute_input": "2024-12-03T11:30:06.270610Z",
     "iopub.status.busy": "2024-12-03T11:30:06.270237Z",
     "iopub.status.idle": "2024-12-03T11:30:11.957250Z",
     "shell.execute_reply": "2024-12-03T11:30:11.955552Z",
     "shell.execute_reply.started": "2024-12-03T11:30:06.270582Z"
    }
   },
   "outputs": [],
   "source": [
    "from annoy import AnnoyIndex\n",
    "from concurrent.futures import ThreadPoolExecutor\n",
    "from joblib import dump, load\n",
    "from sklearn.compose import ColumnTransformer\n",
    "from sklearn.impute import SimpleImputer\n",
    "from sklearn.metrics import accuracy_score, auc, classification_report, roc_auc_score, roc_curve\n",
    "from sklearn.metrics.pairwise import cosine_similarity\n",
    "from sklearn.model_selection import train_test_split, RandomizedSearchCV\n",
    "from sklearn.pipeline import Pipeline\n",
    "from sklearn.preprocessing import OneHotEncoder, StandardScaler\n",
    "import matplotlib.pyplot as plt\n",
    "import numpy as np\n",
    "import pickle\n",
    "import pprint\n",
    "import pandas as pd\n",
    "import xgboost as xgb"
   ]
  },
  {
   "cell_type": "code",
   "execution_count": 2,
   "id": "8bc572b9-0ef5-4ef6-9b20-5d3ae3fa1266",
   "metadata": {
    "execution": {
     "iopub.execute_input": "2024-12-03T11:30:11.960118Z",
     "iopub.status.busy": "2024-12-03T11:30:11.959232Z",
     "iopub.status.idle": "2024-12-03T11:30:28.501586Z",
     "shell.execute_reply": "2024-12-03T11:30:28.500704Z",
     "shell.execute_reply.started": "2024-12-03T11:30:11.960065Z"
    }
   },
   "outputs": [],
   "source": [
    "train_df = pd.read_csv('D://Documents/VCB/NBA/Real world use/data.csv')\n",
    "test_df = pd.read_parquet('D://Documents/VCB/NBA/Real world use/data-val.parquet')"
   ]
  },
  {
   "cell_type": "code",
   "execution_count": 3,
   "id": "12196a84-097a-4467-b796-18da0fc411e2",
   "metadata": {
    "execution": {
     "iopub.execute_input": "2024-12-03T11:30:28.502974Z",
     "iopub.status.busy": "2024-12-03T11:30:28.502589Z",
     "iopub.status.idle": "2024-12-03T11:30:28.734452Z",
     "shell.execute_reply": "2024-12-03T11:30:28.733566Z",
     "shell.execute_reply.started": "2024-12-03T11:30:28.502940Z"
    }
   },
   "outputs": [
    {
     "name": "stdout",
     "output_type": "stream",
     "text": [
      "Removed columns: {'SUM_NOT_TRANSFER_3m', 'Unnamed: 0.1', 'SUM_AMT_TRANSFER_3m'}\n"
     ]
    }
   ],
   "source": [
    "## Make sure that the dataset \n",
    "\n",
    "# Find common columns\n",
    "common_columns = train_df.columns.intersection(test_df.columns)\n",
    "\n",
    "# Drop uncommon columns\n",
    "removed_columns = set(train_df.columns).symmetric_difference(test_df.columns)\n",
    "train_df_filtered = train_df[common_columns]\n",
    "test_df_filtered = test_df[common_columns]\n",
    "\n",
    "# Print removed columns\n",
    "print(\"Removed columns:\", removed_columns)"
   ]
  },
  {
   "cell_type": "code",
   "execution_count": 4,
   "id": "d8479343-e089-43c2-8c74-95448a1c8382",
   "metadata": {
    "execution": {
     "iopub.execute_input": "2024-12-03T11:30:28.737111Z",
     "iopub.status.busy": "2024-12-03T11:30:28.736039Z",
     "iopub.status.idle": "2024-12-03T11:30:28.901077Z",
     "shell.execute_reply": "2024-12-03T11:30:28.900090Z",
     "shell.execute_reply.started": "2024-12-03T11:30:28.737061Z"
    }
   },
   "outputs": [
    {
     "name": "stdout",
     "output_type": "stream",
     "text": [
      "Train data: 57\n",
      "Test data: 57\n"
     ]
    }
   ],
   "source": [
    "# Comparing number of columns\n",
    "print(\"Train data:\", train_df_filtered.shape[1])\n",
    "print(\"Test data:\", test_df_filtered.shape[1])"
   ]
  },
  {
   "cell_type": "code",
   "execution_count": 5,
   "id": "a2130e87-821b-407f-bc84-8899c21ff311",
   "metadata": {
    "execution": {
     "iopub.execute_input": "2024-12-03T11:30:28.903357Z",
     "iopub.status.busy": "2024-12-03T11:30:28.902325Z",
     "iopub.status.idle": "2024-12-03T11:30:29.961008Z",
     "shell.execute_reply": "2024-12-03T11:30:29.959589Z",
     "shell.execute_reply.started": "2024-12-03T11:30:28.903305Z"
    }
   },
   "outputs": [],
   "source": [
    "## Dropping irrelavant columns\n",
    "\n",
    "# Train_data\n",
    "train_df_filtered = train_df_filtered.drop(columns=['Age_x','CIF_CLSCUS', 'COB_DATE', 'DATE_TIME', 'BRN_OPN_CIF', 'MA_PHONG_GIAO_DICH_VCB', 'CIF_MASK', 'IS_TM', 'Unnamed: 0', 'SUM_CBALQ_LH_6m', 'SUM_CBALQ_LH_3m', 'AVG_GR_SUM_CBALQ_LH'])\n",
    "\n",
    "# Test_data \n",
    "test_df_filtered = test_df_filtered.drop(columns=['Age_x','CIF_CLSCUS', 'COB_DATE', 'DATE_TIME', 'BRN_OPN_CIF', 'MA_PHONG_GIAO_DICH_VCB', 'CIF_MASK', 'IS_TM', 'Unnamed: 0', 'SUM_CBALQ_LH_6m', 'SUM_CBALQ_LH_3m', 'AVG_GR_SUM_CBALQ_LH'])"
   ]
  },
  {
   "cell_type": "code",
   "execution_count": 6,
   "id": "788cde3a-78d1-47a7-9ce4-085404b59395",
   "metadata": {
    "execution": {
     "iopub.execute_input": "2024-12-03T11:30:29.962690Z",
     "iopub.status.busy": "2024-12-03T11:30:29.962247Z",
     "iopub.status.idle": "2024-12-03T11:30:30.889507Z",
     "shell.execute_reply": "2024-12-03T11:30:30.887451Z",
     "shell.execute_reply.started": "2024-12-03T11:30:29.962647Z"
    }
   },
   "outputs": [
    {
     "name": "stdout",
     "output_type": "stream",
     "text": [
      "Train data: 45\n",
      "Test data: 45\n",
      "Selected columns:\n",
      " Index(['CBALQ_3m', 'AVG_SL_SP_BOSUNG', 'NO_TREN_CO_6m',\n",
      "       'LOAIHINHCOQUANDANGCONGTAC', 'SUM_CBALQ_LH', 'BHNT_flag',\n",
      "       'MEDIAN_GR_SUM_AMT', 'TINHTRANGSOHUUNHA', 'TINHTRANGHONNHAN', 'Khu_vuc',\n",
      "       'BHNT_after21', 'Sum_PPC', 'MEDIAN_GR_THGCO', 'BHSK_remain',\n",
      "       'IS_BANCAS', 'AVG_GR_CBALQ', 'CBALQ_6m', 'AVG_CBALQ_6m', 'BHNT_remain',\n",
      "       'AVG_GR_THGCO', 'IS_TM.1', 'Age_y', 'THGCO_3m', 'CNT_TGCCKH',\n",
      "       'THGNO_6m', 'IS_TA', 'TONGTHUNHAPHANGTHANG', 'Snapshot', 'BHSK_flag',\n",
      "       'THGCO_6m', 'MEDIAN_GR_CBALQ', 'AVG_CBALQ_TGCCKH', 'THGNO_3m',\n",
      "       'TINHCHATCONGVIECHIENTAI', 'AVG_AMT_3M', 'NO_TREN_CO_3m',\n",
      "       'AVG_CBALQ_3m', 'Prio_flag', 'SONGUOIPHUTHUOC', 'THOIGIANLAMVIECLVHT',\n",
      "       'BHSK_after21', 'Payroll_Flag', 'AVG_GR_THGNO', 'CUS_GEN',\n",
      "       'MEDIAN_GR_THGNO'],\n",
      "      dtype='object')\n"
     ]
    }
   ],
   "source": [
    "# Comparing number of columns\n",
    "print(\"Train data:\", train_df_filtered.shape[1])\n",
    "print(\"Test data:\", test_df_filtered.shape[1])\n",
    "print('Selected columns:\\n', test_df_filtered.columns)"
   ]
  },
  {
   "cell_type": "code",
   "execution_count": 7,
   "id": "428f5b37-85aa-4b96-b2da-4a66e1269e4f",
   "metadata": {
    "execution": {
     "iopub.execute_input": "2024-12-03T11:30:30.893002Z",
     "iopub.status.busy": "2024-12-03T11:30:30.892407Z",
     "iopub.status.idle": "2024-12-03T11:30:33.775355Z",
     "shell.execute_reply": "2024-12-03T11:30:33.774352Z",
     "shell.execute_reply.started": "2024-12-03T11:30:30.892952Z"
    }
   },
   "outputs": [
    {
     "name": "stderr",
     "output_type": "stream",
     "text": [
      "c:\\Users\\Zeus\\AppData\\Local\\Programs\\Python\\Python313\\Lib\\site-packages\\numpy\\lib\\_function_base_impl.py:4620: RuntimeWarning: invalid value encountered in subtract\n",
      "  diff_b_a = subtract(b, a)\n",
      "c:\\Users\\Zeus\\AppData\\Local\\Programs\\Python\\Python313\\Lib\\site-packages\\numpy\\lib\\_function_base_impl.py:4620: RuntimeWarning: invalid value encountered in subtract\n",
      "  diff_b_a = subtract(b, a)\n",
      "c:\\Users\\Zeus\\AppData\\Local\\Programs\\Python\\Python313\\Lib\\site-packages\\numpy\\lib\\_function_base_impl.py:4620: RuntimeWarning: invalid value encountered in subtract\n",
      "  diff_b_a = subtract(b, a)\n",
      "c:\\Users\\Zeus\\AppData\\Local\\Programs\\Python\\Python313\\Lib\\site-packages\\numpy\\lib\\_function_base_impl.py:4620: RuntimeWarning: invalid value encountered in subtract\n",
      "  diff_b_a = subtract(b, a)\n",
      "c:\\Users\\Zeus\\AppData\\Local\\Programs\\Python\\Python313\\Lib\\site-packages\\numpy\\lib\\_function_base_impl.py:4620: RuntimeWarning: invalid value encountered in subtract\n",
      "  diff_b_a = subtract(b, a)\n",
      "c:\\Users\\Zeus\\AppData\\Local\\Programs\\Python\\Python313\\Lib\\site-packages\\numpy\\lib\\_function_base_impl.py:4620: RuntimeWarning: invalid value encountered in subtract\n",
      "  diff_b_a = subtract(b, a)\n",
      "c:\\Users\\Zeus\\AppData\\Local\\Programs\\Python\\Python313\\Lib\\site-packages\\numpy\\lib\\_function_base_impl.py:4620: RuntimeWarning: invalid value encountered in subtract\n",
      "  diff_b_a = subtract(b, a)\n",
      "c:\\Users\\Zeus\\AppData\\Local\\Programs\\Python\\Python313\\Lib\\site-packages\\numpy\\lib\\_function_base_impl.py:4620: RuntimeWarning: invalid value encountered in subtract\n",
      "  diff_b_a = subtract(b, a)\n",
      "c:\\Users\\Zeus\\AppData\\Local\\Programs\\Python\\Python313\\Lib\\site-packages\\numpy\\lib\\_function_base_impl.py:4620: RuntimeWarning: invalid value encountered in subtract\n",
      "  diff_b_a = subtract(b, a)\n",
      "c:\\Users\\Zeus\\AppData\\Local\\Programs\\Python\\Python313\\Lib\\site-packages\\numpy\\lib\\_function_base_impl.py:4620: RuntimeWarning: invalid value encountered in subtract\n",
      "  diff_b_a = subtract(b, a)\n",
      "c:\\Users\\Zeus\\AppData\\Local\\Programs\\Python\\Python313\\Lib\\site-packages\\numpy\\lib\\_function_base_impl.py:4620: RuntimeWarning: invalid value encountered in subtract\n",
      "  diff_b_a = subtract(b, a)\n",
      "c:\\Users\\Zeus\\AppData\\Local\\Programs\\Python\\Python313\\Lib\\site-packages\\numpy\\lib\\_function_base_impl.py:4620: RuntimeWarning: invalid value encountered in subtract\n",
      "  diff_b_a = subtract(b, a)\n",
      "c:\\Users\\Zeus\\AppData\\Local\\Programs\\Python\\Python313\\Lib\\site-packages\\numpy\\lib\\_function_base_impl.py:4620: RuntimeWarning: invalid value encountered in subtract\n",
      "  diff_b_a = subtract(b, a)\n",
      "c:\\Users\\Zeus\\AppData\\Local\\Programs\\Python\\Python313\\Lib\\site-packages\\numpy\\lib\\_function_base_impl.py:4620: RuntimeWarning: invalid value encountered in subtract\n",
      "  diff_b_a = subtract(b, a)\n",
      "c:\\Users\\Zeus\\AppData\\Local\\Programs\\Python\\Python313\\Lib\\site-packages\\numpy\\lib\\_function_base_impl.py:4620: RuntimeWarning: invalid value encountered in subtract\n",
      "  diff_b_a = subtract(b, a)\n",
      "c:\\Users\\Zeus\\AppData\\Local\\Programs\\Python\\Python313\\Lib\\site-packages\\numpy\\lib\\_function_base_impl.py:4620: RuntimeWarning: invalid value encountered in subtract\n",
      "  diff_b_a = subtract(b, a)\n",
      "c:\\Users\\Zeus\\AppData\\Local\\Programs\\Python\\Python313\\Lib\\site-packages\\numpy\\lib\\_function_base_impl.py:4620: RuntimeWarning: invalid value encountered in subtract\n",
      "  diff_b_a = subtract(b, a)\n",
      "c:\\Users\\Zeus\\AppData\\Local\\Programs\\Python\\Python313\\Lib\\site-packages\\numpy\\lib\\_function_base_impl.py:4620: RuntimeWarning: invalid value encountered in subtract\n",
      "  diff_b_a = subtract(b, a)\n"
     ]
    }
   ],
   "source": [
    "def labelling (df, col, num_bins):\n",
    "    df[col] = pd.qcut(df[col], q=num_bins, labels=False, duplicates='drop')\n",
    "    return df\n",
    "for col in ['AVG_AMT_3M', 'AVG_CBALQ_3m', 'AVG_CBALQ_6m', 'AVG_CBALQ_TGCCKH',\n",
    "       'AVG_GR_CBALQ', 'AVG_GR_THGCO', 'AVG_GR_THGNO', 'AVG_SL_SP_BOSUNG',\n",
    "        'CBALQ_3m', 'CBALQ_6m', 'CNT_TGCCKH', 'MEDIAN_GR_CBALQ',\n",
    "       'MEDIAN_GR_SUM_AMT', 'MEDIAN_GR_THGCO', 'MEDIAN_GR_THGNO',\n",
    "       'NO_TREN_CO_3m', 'NO_TREN_CO_6m', 'SUM_CBALQ_LH', 'Snapshot', 'Sum_PPC',\n",
    "       'THGCO_3m', 'THGCO_6m', 'THGNO_3m', 'THGNO_6m', 'TONGTHUNHAPHANGTHANG']:\n",
    "    train_df = labelling(train_df_filtered, col, 10)\n",
    "    test_df = labelling(test_df_filtered, col, 10)\n",
    "\n",
    "\n"
   ]
  },
  {
   "cell_type": "code",
   "execution_count": 8,
   "id": "d59bcc5d",
   "metadata": {},
   "outputs": [],
   "source": [
    "def labelling(df, cols, num_bins, bin_edges_dict=None):\n",
    "    \"\"\"\n",
    "    Label columns based on binning using qcut or pre-defined bin edges.\n",
    "\n",
    "    Parameters:\n",
    "    - df: DataFrame containing the columns to bin.\n",
    "    - cols: List of column names to apply binning to.\n",
    "    - num_bins: Number of bins for qcut or binning.\n",
    "    - bin_edges_dict: Dictionary with column names as keys and precomputed bin edges as values.\n",
    "\n",
    "    Returns:\n",
    "    - df: DataFrame with binned columns.\n",
    "    - bin_edges_dict: Dictionary containing the bin edges for each column.\n",
    "    \"\"\"\n",
    "    for col in cols:\n",
    "        if bin_edges_dict is None or col not in bin_edges_dict:\n",
    "            # Compute bin edges for the first time\n",
    "            _, bin_edges = pd.qcut(df[col], q=num_bins, retbins=True, duplicates='drop')\n",
    "            df[col] = pd.qcut(df[col], q=num_bins, labels=False, duplicates='drop')\n",
    "            # Save bin edges to the dictionary\n",
    "            if bin_edges_dict is None:\n",
    "                bin_edges_dict = {}\n",
    "            bin_edges_dict[col] = bin_edges\n",
    "        else:\n",
    "            # Use the precomputed bin edges for consistency\n",
    "            df[col] = pd.cut(df[col], bins=bin_edges_dict[col], labels=False, right=False)\n",
    "    \n",
    "    return df, bin_edges_dict"
   ]
  },
  {
   "cell_type": "code",
   "execution_count": 9,
   "id": "2a837115",
   "metadata": {},
   "outputs": [],
   "source": [
    "age_bin_edges = [0, 20, 25, 30, 35, 40, 45, 50, 55, 60, float('inf')]\n",
    "labels = ['Duoi 20', '20 toi 24', '25 toi 29', '30 toi 34', '35 toi 39', '40 toi 44', '45 toi 49', '50 toi 54', '55 toi 59', 'Tren 60']\n",
    "\n",
    "train_df['Age_group'] = pd.cut(train_df['Age_y'], bins=age_bin_edges, labels=labels, right=False)\n",
    "test_df['Age_group'] = pd.cut(test_df['Age_y'], bins=age_bin_edges, labels=labels, right=False)\n"
   ]
  },
  {
   "cell_type": "code",
   "execution_count": 10,
   "id": "9844ff1b-3dba-4b0e-b1f1-8120e253101a",
   "metadata": {
    "execution": {
     "iopub.execute_input": "2024-12-03T11:30:33.777284Z",
     "iopub.status.busy": "2024-12-03T11:30:33.776800Z",
     "iopub.status.idle": "2024-12-03T11:30:33.790256Z",
     "shell.execute_reply": "2024-12-03T11:30:33.788030Z",
     "shell.execute_reply.started": "2024-12-03T11:30:33.777248Z"
    }
   },
   "outputs": [
    {
     "name": "stdout",
     "output_type": "stream",
     "text": [
      "46\n"
     ]
    }
   ],
   "source": [
    "## Collaborative search\n",
    "\n",
    "# Step 1: Handle missing values and ensure consistent data types\n",
    "def handle_missing_values(df):\n",
    "    df = df.astype(str)\n",
    "    df = df.fillna(\"None\")\n",
    "    return df\n",
    "\n",
    "# Step 2: Preprocess - Encoding categorical variables\n",
    "def preprocess_data(df, target_column, transformer=None):\n",
    "    # Separate features (X) and target (y)\n",
    "    X = df.drop(columns=[target_column])\n",
    "    y = df[target_column]\n",
    "    \n",
    "    # Reset indices for alignment with Annoy\n",
    "    X = X.reset_index(drop=True)\n",
    "    y = y.reset_index(drop=True)\n",
    "    \n",
    "    # Handle missing values and ensure consistent data types\n",
    "    X = handle_missing_values(X)\n",
    "\n",
    "    if transformer is None:\n",
    "        transformer = ColumnTransformer(\n",
    "            transformers=[\n",
    "                ('cat', OneHotEncoder(sparse_output=False, handle_unknown='ignore'), X.columns.tolist())\n",
    "            ],\n",
    "            remainder='passthrough'\n",
    "        )\n",
    "        transformer.fit(X)\n",
    "    \n",
    "    # Transform features\n",
    "    X_transformed = transformer.transform(X)\n",
    "    return X_transformed.astype(np.float32), y.astype(float), transformer\n",
    "\n",
    "# Step 3: Create Annoy Index\n",
    "def create_annoy_index(df, target_column, n_neighbors=20):\n",
    "    # Preprocess the data and separate features and target\n",
    "    X, y, transformer = preprocess_data(df, target_column)\n",
    "    \n",
    "    # Initialize Annoy index\n",
    "    annoy_index = AnnoyIndex(X.shape[1], 'angular')\n",
    "    \n",
    "    # Add items to the Annoy index\n",
    "    for i, vector in enumerate(X):\n",
    "        annoy_index.add_item(i, vector)\n",
    "    \n",
    "    # Build the index\n",
    "    annoy_index.build(100)\n",
    "    \n",
    "    return annoy_index, X, y, transformer  # Return y for later use\n",
    "    \n",
    "def predict_nba_parallel(df, target_column, annoy_index, transformer, y_train, n_neighbors=20, n_jobs=4):\n",
    "    # Preprocess the data and separate features\n",
    "    X, y, _ = preprocess_data(df, target_column, transformer)\n",
    "    \n",
    "    # Function to process a single observation\n",
    "    def process_vector(test_vector):\n",
    "        nearest_neighbors = annoy_index.get_nns_by_vector(test_vector, n_neighbors)  # Find neighbors\n",
    "        similar_train_data = y_train.iloc[nearest_neighbors]  # Use y_train directly\n",
    "        return similar_train_data.mean()  # Average for prediction\n",
    "    \n",
    "    # Parallelize using ThreadPoolExecutor\n",
    "    with ThreadPoolExecutor(max_workers=n_jobs) as executor:\n",
    "        y_pred = list(executor.map(process_vector, X))\n",
    "    \n",
    "    return np.array(y_pred)\n",
    "\n",
    "print(train_df.shape[1])\n"
   ]
  },
  {
   "cell_type": "code",
   "execution_count": null,
   "id": "2a8fb8e4",
   "metadata": {},
   "outputs": [],
   "source": [
    "# Training\n",
    "target_column = 'IS_BANCAS'\n",
    "annoy_index, X, y_train, transformer = create_annoy_index(train_df, target_column)\n",
    "\n",
    "# Save the Annoy index to a file\n",
    "annoy_index.save('D://Documents/VCB/NBA/Real world use/results/annoy_index.ann')\n"
   ]
  },
  {
   "cell_type": "code",
   "execution_count": null,
   "id": "1366ad3f-432e-4bb8-9ef4-6f084ecbcbef",
   "metadata": {},
   "outputs": [],
   "source": [
    "\n",
    "# Save the dimension during creation\n",
    "annoy_dim = X.shape[1]\n",
    "with open('D://Documents/VCB/NBA/Real world use/results/annoy_index_dim.txt', 'w') as f:\n",
    "    f.write(str(annoy_dim))\n",
    "\n",
    "# Save the transformer, y_train, and the function using joblib\n",
    "\n",
    "# Save the bin edges dictionary to a file for future use (Pickle)\n",
    "with open('bin_edges_dict.pkl', 'wb') as file:\n",
    "    pickle.dump(bin_edges_dict, file)"
   ]
  },
  {
   "cell_type": "code",
   "execution_count": null,
   "id": "833cbfac",
   "metadata": {},
   "outputs": [
    {
     "data": {
      "text/plain": [
       "{'transformer': ColumnTransformer(remainder='passthrough',\n",
       "                   transformers=[('cat',\n",
       "                                  OneHotEncoder(handle_unknown='ignore',\n",
       "                                                sparse_output=False),\n",
       "                                  ['CBALQ_3m', 'AVG_SL_SP_BOSUNG',\n",
       "                                   'NO_TREN_CO_6m', 'LOAIHINHCOQUANDANGCONGTAC',\n",
       "                                   'SUM_CBALQ_LH', 'BHNT_flag',\n",
       "                                   'MEDIAN_GR_SUM_AMT', 'TINHTRANGSOHUUNHA',\n",
       "                                   'TINHTRANGHONNHAN', 'Khu_vuc', 'BHNT_after21',\n",
       "                                   'Sum_PPC', 'MEDIAN_GR_THGCO', 'BHSK_remain',\n",
       "                                   'AVG_GR_CBALQ', 'CBALQ_6m', 'AVG_CBALQ_6m',\n",
       "                                   'BHNT_remain', 'AVG_GR_THGCO', 'IS_TM.1',\n",
       "                                   'Age_y', 'THGCO_3m', 'CNT_TGCCKH', 'THGNO_6m',\n",
       "                                   'IS_TA', 'TONGTHUNHAPHANGTHANG', 'Snapshot',\n",
       "                                   'BHSK_flag', 'THGCO_6m', 'MEDIAN_GR_CBALQ', ...])]),\n",
       " 'y_train': 0          1.0\n",
       " 1          1.0\n",
       " 2          1.0\n",
       " 3          1.0\n",
       " 4          1.0\n",
       "           ... \n",
       " 1088446    0.0\n",
       " 1088447    0.0\n",
       " 1088448    0.0\n",
       " 1088449    0.0\n",
       " 1088450    0.0\n",
       " Name: IS_BANCAS, Length: 1088451, dtype: float64}"
      ]
     },
     "execution_count": 18,
     "metadata": {},
     "output_type": "execute_result"
    }
   ],
   "source": [
    "load('D://Documents/VCB/NBA/Real world use/results/collaborative_search_model_with_parallel.joblib')"
   ]
  },
  {
   "cell_type": "code",
   "execution_count": null,
   "id": "e18114a1-e7fe-4a9a-8895-4794979aa827",
   "metadata": {},
   "outputs": [
    {
     "ename": "KeyboardInterrupt",
     "evalue": "",
     "output_type": "error",
     "traceback": [
      "\u001b[1;31m---------------------------------------------------------------------------\u001b[0m",
      "\u001b[1;31mKeyboardInterrupt\u001b[0m                         Traceback (most recent call last)",
      "Cell \u001b[1;32mIn[19], line 6\u001b[0m\n\u001b[0;32m      1\u001b[0m \u001b[38;5;66;03m# Testing\u001b[39;00m\n\u001b[0;32m      2\u001b[0m \n\u001b[0;32m      3\u001b[0m \u001b[38;5;66;03m## On training data\u001b[39;00m\n\u001b[0;32m      4\u001b[0m \n\u001b[0;32m      5\u001b[0m \u001b[38;5;66;03m### Collaborative search\u001b[39;00m\n\u001b[1;32m----> 6\u001b[0m y_pred_col_train \u001b[38;5;241m=\u001b[39m \u001b[43mpredict_nba_parallel\u001b[49m\u001b[43m(\u001b[49m\u001b[43mtrain_df\u001b[49m\u001b[43m,\u001b[49m\u001b[43m \u001b[49m\u001b[43mtarget_column\u001b[49m\u001b[43m,\u001b[49m\u001b[43m \u001b[49m\u001b[43mannoy_index\u001b[49m\u001b[43m,\u001b[49m\u001b[43m \u001b[49m\u001b[43mtransformer\u001b[49m\u001b[43m,\u001b[49m\u001b[43m \u001b[49m\u001b[43my_train\u001b[49m\u001b[43m)\u001b[49m\n\u001b[0;32m      7\u001b[0m y_pred_col_train_round \u001b[38;5;241m=\u001b[39m y_pred_col_train\u001b[38;5;241m.\u001b[39mround()\n\u001b[0;32m      9\u001b[0m \u001b[38;5;66;03m## On testing data\u001b[39;00m\n",
      "Cell \u001b[1;32mIn[15], line 64\u001b[0m, in \u001b[0;36mpredict_nba_parallel\u001b[1;34m(df, target_column, annoy_index, transformer, y_train, n_neighbors, n_jobs)\u001b[0m\n\u001b[0;32m     62\u001b[0m \u001b[38;5;66;03m# Parallelize using ThreadPoolExecutor\u001b[39;00m\n\u001b[0;32m     63\u001b[0m \u001b[38;5;28;01mwith\u001b[39;00m ThreadPoolExecutor(max_workers\u001b[38;5;241m=\u001b[39mn_jobs) \u001b[38;5;28;01mas\u001b[39;00m executor:\n\u001b[1;32m---> 64\u001b[0m     y_pred \u001b[38;5;241m=\u001b[39m \u001b[38;5;28;43mlist\u001b[39;49m\u001b[43m(\u001b[49m\u001b[43mexecutor\u001b[49m\u001b[38;5;241;43m.\u001b[39;49m\u001b[43mmap\u001b[49m\u001b[43m(\u001b[49m\u001b[43mprocess_vector\u001b[49m\u001b[43m,\u001b[49m\u001b[43m \u001b[49m\u001b[43mX\u001b[49m\u001b[43m)\u001b[49m\u001b[43m)\u001b[49m\n\u001b[0;32m     66\u001b[0m \u001b[38;5;28;01mreturn\u001b[39;00m np\u001b[38;5;241m.\u001b[39marray(y_pred)\n",
      "File \u001b[1;32mc:\\Users\\Zeus\\AppData\\Local\\Programs\\Python\\Python313\\Lib\\concurrent\\futures\\_base.py:619\u001b[0m, in \u001b[0;36mExecutor.map.<locals>.result_iterator\u001b[1;34m()\u001b[0m\n\u001b[0;32m    616\u001b[0m \u001b[38;5;28;01mwhile\u001b[39;00m fs:\n\u001b[0;32m    617\u001b[0m     \u001b[38;5;66;03m# Careful not to keep a reference to the popped future\u001b[39;00m\n\u001b[0;32m    618\u001b[0m     \u001b[38;5;28;01mif\u001b[39;00m timeout \u001b[38;5;129;01mis\u001b[39;00m \u001b[38;5;28;01mNone\u001b[39;00m:\n\u001b[1;32m--> 619\u001b[0m         \u001b[38;5;28;01myield\u001b[39;00m \u001b[43m_result_or_cancel\u001b[49m\u001b[43m(\u001b[49m\u001b[43mfs\u001b[49m\u001b[38;5;241;43m.\u001b[39;49m\u001b[43mpop\u001b[49m\u001b[43m(\u001b[49m\u001b[43m)\u001b[49m\u001b[43m)\u001b[49m\n\u001b[0;32m    620\u001b[0m     \u001b[38;5;28;01melse\u001b[39;00m:\n\u001b[0;32m    621\u001b[0m         \u001b[38;5;28;01myield\u001b[39;00m _result_or_cancel(fs\u001b[38;5;241m.\u001b[39mpop(), end_time \u001b[38;5;241m-\u001b[39m time\u001b[38;5;241m.\u001b[39mmonotonic())\n",
      "File \u001b[1;32mc:\\Users\\Zeus\\AppData\\Local\\Programs\\Python\\Python313\\Lib\\concurrent\\futures\\_base.py:317\u001b[0m, in \u001b[0;36m_result_or_cancel\u001b[1;34m(***failed resolving arguments***)\u001b[0m\n\u001b[0;32m    315\u001b[0m \u001b[38;5;28;01mtry\u001b[39;00m:\n\u001b[0;32m    316\u001b[0m     \u001b[38;5;28;01mtry\u001b[39;00m:\n\u001b[1;32m--> 317\u001b[0m         \u001b[38;5;28;01mreturn\u001b[39;00m \u001b[43mfut\u001b[49m\u001b[38;5;241;43m.\u001b[39;49m\u001b[43mresult\u001b[49m\u001b[43m(\u001b[49m\u001b[43mtimeout\u001b[49m\u001b[43m)\u001b[49m\n\u001b[0;32m    318\u001b[0m     \u001b[38;5;28;01mfinally\u001b[39;00m:\n\u001b[0;32m    319\u001b[0m         fut\u001b[38;5;241m.\u001b[39mcancel()\n",
      "File \u001b[1;32mc:\\Users\\Zeus\\AppData\\Local\\Programs\\Python\\Python313\\Lib\\concurrent\\futures\\_base.py:451\u001b[0m, in \u001b[0;36mFuture.result\u001b[1;34m(self, timeout)\u001b[0m\n\u001b[0;32m    448\u001b[0m \u001b[38;5;28;01melif\u001b[39;00m \u001b[38;5;28mself\u001b[39m\u001b[38;5;241m.\u001b[39m_state \u001b[38;5;241m==\u001b[39m FINISHED:\n\u001b[0;32m    449\u001b[0m     \u001b[38;5;28;01mreturn\u001b[39;00m \u001b[38;5;28mself\u001b[39m\u001b[38;5;241m.\u001b[39m__get_result()\n\u001b[1;32m--> 451\u001b[0m \u001b[38;5;28;43mself\u001b[39;49m\u001b[38;5;241;43m.\u001b[39;49m\u001b[43m_condition\u001b[49m\u001b[38;5;241;43m.\u001b[39;49m\u001b[43mwait\u001b[49m\u001b[43m(\u001b[49m\u001b[43mtimeout\u001b[49m\u001b[43m)\u001b[49m\n\u001b[0;32m    453\u001b[0m \u001b[38;5;28;01mif\u001b[39;00m \u001b[38;5;28mself\u001b[39m\u001b[38;5;241m.\u001b[39m_state \u001b[38;5;129;01min\u001b[39;00m [CANCELLED, CANCELLED_AND_NOTIFIED]:\n\u001b[0;32m    454\u001b[0m     \u001b[38;5;28;01mraise\u001b[39;00m CancelledError()\n",
      "File \u001b[1;32mc:\\Users\\Zeus\\AppData\\Local\\Programs\\Python\\Python313\\Lib\\threading.py:359\u001b[0m, in \u001b[0;36mCondition.wait\u001b[1;34m(self, timeout)\u001b[0m\n\u001b[0;32m    357\u001b[0m \u001b[38;5;28;01mtry\u001b[39;00m:    \u001b[38;5;66;03m# restore state no matter what (e.g., KeyboardInterrupt)\u001b[39;00m\n\u001b[0;32m    358\u001b[0m     \u001b[38;5;28;01mif\u001b[39;00m timeout \u001b[38;5;129;01mis\u001b[39;00m \u001b[38;5;28;01mNone\u001b[39;00m:\n\u001b[1;32m--> 359\u001b[0m         \u001b[43mwaiter\u001b[49m\u001b[38;5;241;43m.\u001b[39;49m\u001b[43macquire\u001b[49m\u001b[43m(\u001b[49m\u001b[43m)\u001b[49m\n\u001b[0;32m    360\u001b[0m         gotit \u001b[38;5;241m=\u001b[39m \u001b[38;5;28;01mTrue\u001b[39;00m\n\u001b[0;32m    361\u001b[0m     \u001b[38;5;28;01melse\u001b[39;00m:\n",
      "\u001b[1;31mKeyboardInterrupt\u001b[0m: "
     ]
    }
   ],
   "source": [
    "# Testing\n",
    "\n",
    "## On training data\n",
    "\n",
    "### Collaborative search\n",
    "y_pred_col_train = predict_nba_parallel(train_df, target_column, annoy_index, transformer, y_train)\n",
    "y_pred_col_train_round = y_pred_col_train.round()\n",
    "\n",
    "## On testing data\n",
    "y_pred_col_test = predict_nba_parallel(test_df, target_column, annoy_index, transformer, y_train)\n",
    "y_pred_col_test_round = y_pred_col_test.round()"
   ]
  },
  {
   "cell_type": "code",
   "execution_count": null,
   "id": "1829645e-9507-41c8-8955-0344ff3e6711",
   "metadata": {},
   "outputs": [],
   "source": [
    "y_test = test_df[target_column]"
   ]
  },
  {
   "cell_type": "code",
   "execution_count": null,
   "id": "36a84c25-3e7d-4dcf-a1eb-490846cde7e1",
   "metadata": {},
   "outputs": [],
   "source": [
    "# for col in y_train:\n",
    "#     print(y_train[col].unique())"
   ]
  },
  {
   "cell_type": "code",
   "execution_count": null,
   "id": "df8530e7-7330-41c3-97c2-8c2ad397a5a0",
   "metadata": {},
   "outputs": [
    {
     "name": "stdout",
     "output_type": "stream",
     "text": [
      "\n",
      "TESTING ON TRAINING DATA:\n",
      "\n",
      "Model Accuracy: 95.84\n",
      "\n",
      "Classification Report:\n",
      "              precision    recall  f1-score   support\n",
      "\n",
      "         0.0       0.97      0.99      0.98   1036620\n",
      "         1.0       0.63      0.31      0.41     51831\n",
      "\n",
      "    accuracy                           0.96   1088451\n",
      "   macro avg       0.80      0.65      0.70   1088451\n",
      "weighted avg       0.95      0.96      0.95   1088451\n",
      "\n",
      "ROC AUC Score: 0.93\n",
      "Gini Index: 0.85\n",
      "\n",
      "TESTING ON TESTING DATA:\n",
      "\n",
      "Model Accuracy: 95.02000000000001%\n",
      "\n",
      "Classification Report:\n",
      "              precision    recall  f1-score   support\n",
      "\n",
      "         0.0       0.96      0.99      0.97    130200\n",
      "         1.0       0.43      0.15      0.22      6510\n",
      "\n",
      "    accuracy                           0.95    136710\n",
      "   macro avg       0.70      0.57      0.60    136710\n",
      "weighted avg       0.93      0.95      0.94    136710\n",
      "\n",
      "ROC AUC Score: 0.75\n",
      "Gini Index: 0.51\n"
     ]
    }
   ],
   "source": [
    "# Reporting\n",
    "\n",
    "## On training data\n",
    "print('\\nTESTING ON TRAINING DATA:\\n')\n",
    "\n",
    "\n",
    "\n",
    "accuracy_col_train = accuracy_score(y_train, y_pred_col_train_round)\n",
    "accuracy_col_train = round(accuracy_col_train, 4)\n",
    "roc_auc_score_col_train = roc_auc_score(y_train, y_pred_col_train)\n",
    "gini_col_train = 2 * roc_auc_score_col_train -1\n",
    "\n",
    "print('Model Accuracy:', str(accuracy_col_train * 100))\n",
    "print('\\nClassification Report:')\n",
    "print(classification_report(y_train, y_pred_col_train_round))\n",
    "print(\"ROC AUC Score:\", roc_auc_score_col_train.round(2))\n",
    "print(\"Gini Index:\", gini_col_train.round(2))\n",
    "\n",
    "\n",
    "## On testing data\n",
    "print('\\nTESTING ON TESTING DATA:\\n')\n",
    "\n",
    "\n",
    "\n",
    "accuracy_col_test = accuracy_score(y_test, y_pred_col_test_round)\n",
    "accuracy_col_test = round(accuracy_col_test, 4)\n",
    "roc_auc_score_col_test = roc_auc_score(y_test, y_pred_col_test)\n",
    "gini_col_test = 2 * roc_auc_score_col_test -1\n",
    "\n",
    "print('Model Accuracy:', str(accuracy_col_test * 100) + '%')\n",
    "print('\\nClassification Report:')\n",
    "print(classification_report(y_test, y_pred_col_test_round))\n",
    "print(\"ROC AUC Score:\", roc_auc_score_col_test.round(2))\n",
    "print(\"Gini Index:\", gini_col_test.round(2))\n"
   ]
  },
  {
   "cell_type": "code",
   "execution_count": null,
   "id": "61f597d2-8684-4b01-9c4f-49eedb383f80",
   "metadata": {},
   "outputs": [],
   "source": [
    "# ROC Curves\n",
    "\n",
    "## Train data\n",
    "fpr_train, tpr_train, thresholds_train = roc_curve(y_train, y_pred_col_train)\n",
    "roc_auc_train = auc(fpr_train, tpr_train)\n",
    "\n",
    "# Insert root point (0,0) into fpr and tpr\n",
    "fpr_train = [0] + list(fpr_train)\n",
    "tpr_train = [0] + list(tpr_train)\n",
    "\n",
    "## Test data\n",
    "fpr_test, tpr_test, thresholds_test = roc_curve(y_test, y_pred_col_test)\n",
    "roc_auc_test = auc(fpr_test, tpr_test)\n",
    "\n",
    "# Insert root point (0,0) into fpr and tpr\n",
    "fpr_test = [0] + list(fpr_test)\n",
    "tpr_test = [0] + list(tpr_test)"
   ]
  },
  {
   "cell_type": "code",
   "execution_count": null,
   "id": "18f28d49-a172-4951-b9c7-afb466e8f849",
   "metadata": {},
   "outputs": [],
   "source": [
    "# Colours\n",
    "background_color = '#181926'\n",
    "text_colour = \"#cad3f5\"\n",
    "axis_colour = \"#b8c0e0\"\n",
    "guess_colour = '#8aadf4'\n",
    "roc_train_colour = \"#f0c6c6\"\n",
    "roc_test_colour = \"#91d7e3\"\n"
   ]
  },
  {
   "cell_type": "code",
   "execution_count": null,
   "id": "b180acc5-74b1-4773-9672-6fe5669de2ed",
   "metadata": {},
   "outputs": [
    {
     "data": {
      "image/png": "[encoded data removed]",
      "text/plain": [
       "<Figure size 800x600 with 1 Axes>"
      ]
     },
     "metadata": {},
     "output_type": "display_data"
    }
   ],
   "source": [
    "# Setting up the plot\n",
    "plt.figure(figsize=(8, 6), facecolor=background_color)\n",
    "ax = plt.gca()  # Get the current Axes\n",
    "ax.set_facecolor(background_color)  # Set the background color of the Axes\n",
    "\n",
    "# Customize axis colors\n",
    "ax.tick_params(axis='x', colors=axis_colour)  # Set x-axis tick color\n",
    "ax.tick_params(axis='y', colors=axis_colour)  # Set y-axis tick color\n",
    "ax.spines['bottom'].set_color(axis_colour)  # Set bottom spine color\n",
    "ax.spines['left'].set_color(axis_colour)    # Set left spine color\n",
    "ax.spines['top'].set_color(axis_colour)  # Set bottom spine color\n",
    "ax.spines['right'].set_color(axis_colour)    # Set left spine color\n",
    "\n",
    "# Plotting\n",
    "\n",
    "# Plot the ROC curve\n",
    "plt.plot(fpr_train, tpr_train, color=roc_train_colour, label=f'Train Data ROC Curve (AUC = {roc_auc_train:.2f})')\n",
    "plt.plot(fpr_test, tpr_test, color=roc_test_colour, label=f'Test data ROC Curve (AUC = {roc_auc_test:.2f})')\n",
    "plt.plot([0, 1], [0, 1], color=guess_colour, linestyle='--', label='Random Guess')\n",
    "plt.xlabel('False Positive Rate', color=text_colour)  # White text for better contrast\n",
    "plt.ylabel('True Positive Rate', color=text_colour)  # White text for better contrast\n",
    "plt.title('Next Best Action Receiver Operating Characteristic (ROC) Curve', color=text_colour)\n",
    "plt.legend(loc='lower right', facecolor=background_color, edgecolor=text_colour, labelcolor=text_colour)\n",
    "plt.grid(alpha=0.1, color=axis_colour)  # Adjust grid line color for visibility\n",
    "\n",
    "# Set the x and y limits to start at 0\n",
    "plt.xlim(0, 1)  # x-axis starts at 0\n",
    "plt.ylim(0, 1)  # y-axis starts at 0\n",
    "\n",
    "plt.show()"
   ]
  }
 ],
 "metadata": {
  "kernelspec": {
   "display_name": "Python 3",
   "language": "python",
   "name": "python3"
  },
  "language_info": {
   "codemirror_mode": {
    "name": "ipython",
    "version": 3
   },
   "file_extension": ".py",
   "mimetype": "text/x-python",
   "name": "python",
   "nbconvert_exporter": "python",
   "pygments_lexer": "ipython3",
   "version": "3.13.1"
  }
 },
 "nbformat": 4,
 "nbformat_minor": 5
}
