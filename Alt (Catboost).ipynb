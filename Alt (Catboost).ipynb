{
 "cells": [
  {
   "cell_type": "code",
   "execution_count": 9,
   "id": "9f265251-a4eb-4aff-9131-abaf2090210c",
   "metadata": {},
   "outputs": [],
   "source": [
    "import pandas as pd\n",
    "import numpy as np\n",
    "from catboost import CatBoostClassifier, Pool\n",
    "from sklearn.model_selection import train_test_split\n",
    "from sklearn.metrics import accuracy_score, classification_report\n",
    "from sklearn.metrics import roc_auc_score"
   ]
  },
  {
   "cell_type": "code",
   "execution_count": 10,
   "id": "a4b322b8-50e2-4bef-9e24-feb4a6572a16",
   "metadata": {},
   "outputs": [],
   "source": [
    "data_df = pd.read_csv('data.csv')"
   ]
  },
  {
   "cell_type": "code",
   "execution_count": 11,
   "id": "cd9bdca1-204c-43f0-961a-69d8fc963c24",
   "metadata": {},
   "outputs": [],
   "source": [
    "# Dropping columns\n",
    "data_df = data_df.drop(columns=['Age_x', 'Unnamed: 0.1', 'Unnamed: 0', 'CIF_CLSCUS', 'COB_DATE', 'DATE_TIME', 'BRN_OPN_CIF', 'MA_PHONG_GIAO_DICH_VCB', 'CIF_MASK'])\n",
    "data_df.replace([np.inf, -np.inf], np.nan, inplace=True)"
   ]
  },
  {
   "cell_type": "code",
   "execution_count": 12,
   "id": "890ac4a7-096b-4af9-9ebe-c19372ab1e96",
   "metadata": {},
   "outputs": [
    {
     "name": "stdout",
     "output_type": "stream",
     "text": [
      "0:\tlearn: 0.5313152\ttotal: 1.12s\tremaining: 18m 43s\n",
      "100:\tlearn: 0.1226616\ttotal: 1m 41s\tremaining: 15m 6s\n",
      "200:\tlearn: 0.1202277\ttotal: 3m 20s\tremaining: 13m 17s\n",
      "300:\tlearn: 0.1186528\ttotal: 4m 57s\tremaining: 11m 31s\n",
      "400:\tlearn: 0.1172788\ttotal: 6m 35s\tremaining: 9m 50s\n",
      "500:\tlearn: 0.1161064\ttotal: 8m 13s\tremaining: 8m 11s\n",
      "600:\tlearn: 0.1150516\ttotal: 9m 50s\tremaining: 6m 31s\n",
      "700:\tlearn: 0.1140403\ttotal: 11m 28s\tremaining: 4m 53s\n",
      "800:\tlearn: 0.1130598\ttotal: 13m 6s\tremaining: 3m 15s\n",
      "900:\tlearn: 0.1121365\ttotal: 14m 43s\tremaining: 1m 37s\n",
      "999:\tlearn: 0.1112909\ttotal: 16m 19s\tremaining: 0us\n",
      "Accuracy: 0.962263024194845\n",
      "              precision    recall  f1-score   support\n",
      "\n",
      "         0.0       0.97      0.99      0.98    207338\n",
      "         1.0       0.73      0.33      0.45     10353\n",
      "\n",
      "    accuracy                           0.96    217691\n",
      "   macro avg       0.85      0.66      0.72    217691\n",
      "weighted avg       0.96      0.96      0.96    217691\n",
      "\n",
      "ROC AUC Score: 0.660380250418389\n",
      "Gini Index: 0.320760500836778\n"
     ]
    }
   ],
   "source": [
    "target = 'IS_BANCAS'  # Replace with your target column\n",
    "features = [col for col in data_df.columns if col != target]\n",
    "\n",
    "# Check for categorical featuresC\n",
    "categorical_features = data_df.select_dtypes(include=['object', 'category']).columns.tolist()\n",
    "\n",
    "# Split data into train and test\n",
    "X = data_df[features]\n",
    "y = data_df[target]\n",
    "\n",
    "# Replace NaN in categorical features with a placeholder\n",
    "for cat_col in categorical_features:\n",
    "    X.loc[:, cat_col] = X[cat_col].astype(str).fillna(\"missing\")\n",
    "\n",
    "\n",
    "X_train, X_test, y_train, y_test = train_test_split(X, y, test_size=0.2, random_state=42)\n",
    "\n",
    "for cat_col in categorical_features:\n",
    "    X_train.loc[:, cat_col] = X_train[cat_col].astype(str).fillna(\"missing\")\n",
    "    X_test.loc[:, cat_col] = X_test[cat_col].astype(str).fillna(\"missing\")\n",
    "\n",
    "# Create CatBoost Pool objects\n",
    "train_pool = Pool(data=X_train, label=y_train, cat_features=categorical_features)\n",
    "test_pool = Pool(data=X_test, label=y_test, cat_features=categorical_features)\n",
    "\n",
    "# Initialize and train the CatBoost model\n",
    "model = CatBoostClassifier(\n",
    "    iterations=1000,\n",
    "    learning_rate=0.1,\n",
    "    depth=6,\n",
    "    cat_features=categorical_features,\n",
    "    loss_function='Logloss',\n",
    "    verbose=100\n",
    ")\n",
    "\n",
    "model.fit(train_pool)\n",
    "\n",
    "# Evaluate the model\n",
    "y_pred = model.predict(X_test)\n",
    "print(f\"Accuracy: {accuracy_score(y_test, y_pred)}\")\n",
    "print(classification_report(y_test, y_pred))\n",
    "\n",
    "roc_auc = roc_auc_score(y_test, y_pred)\n",
    "gini_index = 2 * roc_auc - 1\n",
    "\n",
    "print(\"ROC AUC Score:\", roc_auc)\n",
    "print(\"Gini Index:\", gini_index)\n",
    "\n",
    "# Save the model\n",
    "# model.save_model(\"catboost_model.cbm\")"
   ]
  },
  {
   "cell_type": "code",
   "execution_count": null,
   "id": "dffd5fcd-d14a-43e0-90a5-ea1e352d599b",
   "metadata": {},
   "outputs": [],
   "source": []
  },
  {
   "cell_type": "code",
   "execution_count": null,
   "id": "2c6222c3-38ac-48b6-b994-4e14bdc7bd7b",
   "metadata": {},
   "outputs": [],
   "source": []
  }
 ],
 "metadata": {
  "kernelspec": {
   "display_name": "Python 3 (ipykernel)",
   "language": "python",
   "name": "python3"
  },
  "language_info": {
   "codemirror_mode": {
    "name": "ipython",
    "version": 3
   },
   "file_extension": ".py",
   "mimetype": "text/x-python",
   "name": "python",
   "nbconvert_exporter": "python",
   "pygments_lexer": "ipython3",
   "version": "3.12.7"
  }
 },
 "nbformat": 4,
 "nbformat_minor": 5
}
