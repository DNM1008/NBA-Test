{
 "cells": [
  {
   "cell_type": "code",
   "execution_count": null,
   "id": "b788459f-1b25-4ea8-a258-a597cc42f9c2",
   "metadata": {},
   "outputs": [],
   "source": [
    "from sklearn.metrics import accuracy_score, auc, classification_report, roc_auc_score, roc_curve\n",
    "from sklearn.model_selection import train_test_split, RandomizedSearchCV\n",
    "import matplotlib.pyplot as plt\n",
    "import numpy as np\n",
    "import pandas as pd\n",
    "import warnings\n",
    "import xgboost as xgb"
   ]
  },
  {
   "cell_type": "code",
   "execution_count": null,
   "id": "1f84e851-0292-453f-9c7a-f1dd29896fdd",
   "metadata": {},
   "outputs": [],
   "source": [
    "df = pd.read_parquet('data-val.parquet')"
   ]
  },
  {
   "cell_type": "code",
   "execution_count": null,
   "id": "f019e965-3296-4286-96fa-4c938bf06d8c",
   "metadata": {},
   "outputs": [],
   "source": [
    "# Dropping columns\n",
    "df = df.drop(columns=['Age_x','CIF_CLSCUS', 'COB_DATE', 'DATE_TIME', 'BRN_OPN_CIF', 'MA_PHONG_GIAO_DICH_VCB', 'CIF_MASK', 'IS_TM', 'Unnamed: 0', 'SUM_CBALQ_LH_6m', 'SUM_CBALQ_LH_3m', 'AVG_GR_SUM_CBALQ_LH'])"
   ]
  },
  {
   "cell_type": "code",
   "execution_count": null,
   "id": "7289f888-68ac-4134-b303-851aa78db4d7",
   "metadata": {},
   "outputs": [],
   "source": [
    "# Replacing inf values with nan\n",
    "df.replace([np.inf, -np.inf], np.nan, inplace=True)"
   ]
  },
  {
   "cell_type": "code",
   "execution_count": null,
   "id": "9cdec234-48a0-41fb-a646-b3a8a0105087",
   "metadata": {},
   "outputs": [],
   "source": [
    "# Model\n",
    "\n",
    "# Split features and target\n",
    "X = df.drop(columns=['IS_BANCAS'])\n",
    "y = df['IS_BANCAS']\n",
    "\n",
    "\n",
    "# Handle categorical variables\n",
    "# For simplicity, using one-hot encoding, though other methods (target encoding) could be considered\n",
    "X = pd.get_dummies(X, drop_first=True)\n",
    "\n",
    "\n",
    "\n",
    "# Split the data into training and test sets\n",
    "X_train, X_test, y_train, y_test = train_test_split(X, y, test_size=0.2, random_state=42)\n",
    "\n",
    "# Initialize the XGBoost classifier\n",
    "xgb_clf = xgb.XGBClassifier(eval_metric='logloss', missing=np.nan)\n",
    "\n",
    "# Define the parameter grid\n",
    "param_grid = {\n",
    "    'n_estimators': [100, 200, 300, 500],   # Number of trees\n",
    "    'learning_rate': [0.01, 0.05, 0.1, 0.2],  # Step size shrinkage\n",
    "    'max_depth': [3, 5, 7, 10],             # Maximum tree depth\n",
    "    'subsample': [0.6, 0.8, 1.0],           # Fraction of samples used for training\n",
    "    'colsample_bytree': [0.6, 0.8, 1.0],    # Fraction of features used per tree\n",
    "    'gamma': [0, 0.1, 0.5, 1.0],            # Minimum loss reduction for split\n",
    "    'reg_lambda': [0.1, 1.0, 10],           # L2 regularization\n",
    "    'reg_alpha': [0, 0.1, 1.0]              # L1 regularization\n",
    "}\n",
    "# Set up RandomizedSearchCV\n",
    "random_search = RandomizedSearchCV(\n",
    "    estimator=xgb_clf,\n",
    "    param_distributions=param_grid,\n",
    "    n_iter=50,          # Number of parameter settings sampled\n",
    "    scoring='accuracy', # Metric to evaluate performance\n",
    "    cv=3,               # 3-fold cross-validation\n",
    "    verbose=1,          # Print progress\n",
    "    random_state=42,    # Reproducibility\n",
    "    n_jobs=-1           # Use all available cores\n",
    ")\n",
    "# Fit the model\n",
    "random_search.fit(X_train, y_train)\n",
    "\n",
    "best_model = random_search.best_estimator_\n",
    "y_pred = best_model.predict(X_test)"
   ]
  },
  {
   "cell_type": "code",
   "execution_count": null,
   "id": "c406821e-bf71-43f1-9bc3-dfa2e346f4ab",
   "metadata": {},
   "outputs": [],
   "source": [
    "# Evaluate the model\n",
    "accuracy = accuracy_score(y_test, y_pred)\n",
    "accuracy = round(accuracy, 4)\n",
    "print(\"Model Accuracy:\", str(accuracy*100) + \"%\")\n",
    "print(\"\\nClassification Report:\\n\", classification_report(y_test, y_pred))\n"
   ]
  },
  {
   "cell_type": "code",
   "execution_count": null,
   "id": "db565a24-bf73-4a33-bf06-13b1466dc9ce",
   "metadata": {},
   "outputs": [],
   "source": [
    "roc_auc_score = roc_auc_score(y_test, y_pred)\n",
    "gini_index = 2 * roc_auc - 1\n",
    "\n",
    "print(\"ROC AUC Score:\", roc_auc_score.round(2))\n",
    "print(\"Gini Index:\", gini_index.round(2))"
   ]
  },
  {
   "cell_type": "code",
   "execution_count": null,
   "id": "2d863749-a2e3-49a9-9c59-88b62da127ce",
   "metadata": {},
   "outputs": [],
   "source": [
    "\n",
    "# Step 4: Evaluate predictions (e.g., ROC Curve)\n",
    "fpr, tpr, thresholds = roc_curve(y_test, y_pred)\n",
    "roc_auc = auc(fpr, tpr)\n",
    "\n",
    "# Insert the root point (0, 0) into fpr and tpr\n",
    "fpr = [0] + list(fpr)  # Add 0 at the beginning of fpr\n",
    "tpr = [0] + list(tpr)  # Add 0 at the beginning of tpr\n",
    "\n",
    "# Define your custom background color\n",
    "background_color = '#181926'  # A dark gray example, adjust as needed\n",
    "text_colour = \"#cad3f5\"\n",
    "axis_colour = \"#b8c0e0\"\n",
    "roc_colour = '#f5a97f'\n",
    "auc_colour = \"#eed49f\"\n",
    "guess_colour = '#8aadf4'\n",
    "\n",
    "plt.figure(figsize=(8, 6), facecolor=background_color)\n",
    "ax = plt.gca()  # Get the current Axes\n",
    "ax.set_facecolor(background_color)  # Set the background color of the Axes\n",
    "\n",
    "# Customize axis colors\n",
    "ax.tick_params(axis='x', colors=axis_colour)  # Set x-axis tick color\n",
    "ax.tick_params(axis='y', colors=axis_colour)  # Set y-axis tick color\n",
    "ax.spines['bottom'].set_color(axis_colour)  # Set bottom spine color\n",
    "ax.spines['left'].set_color(axis_colour)    # Set left spine color\n",
    "ax.spines['top'].set_color(axis_colour)  # Set bottom spine color\n",
    "ax.spines['right'].set_color(axis_colour)    # Set left spine color\n",
    "\n",
    "# Fill the area under the ROC curve\n",
    "plt.fill_between(fpr, tpr, color=auc_colour, alpha=0.3, label='AUC Region')\n",
    "\n",
    "\n",
    "# Plot the ROC curve\n",
    "plt.plot(fpr, tpr, color=roc_colour, label=f'ROC Curve (AUC = {roc_auc:.2f})')\n",
    "plt.plot([0, 1], [0, 1], color=guess_colour, linestyle='--', label='Random Guess')\n",
    "plt.xlabel('False Positive Rate', color=text_colour)  # White text for better contrast\n",
    "plt.ylabel('True Positive Rate', color=text_colour)  # White text for better contrast\n",
    "plt.title('Receiver Operating Characteristic (ROC) Curve', color=text_colour)\n",
    "plt.legend(loc='lower right', facecolor=background_color, edgecolor=text_colour)\n",
    "plt.grid(alpha=0.1, color=axis_colour)  # Adjust grid line color for visibility\n",
    "\n",
    "# Set the x and y limits to start at 0\n",
    "plt.xlim(0, 1)  # x-axis starts at 0\n",
    "plt.ylim(0, 1)  # y-axis starts at 0\n",
    "\n",
    "plt.show()"
   ]
  }
 ],
 "metadata": {
  "kernelspec": {
   "display_name": "Python 3 (ipykernel)",
   "language": "python",
   "name": "python3"
  },
  "language_info": {
   "codemirror_mode": {
    "name": "ipython",
    "version": 3
   },
   "file_extension": ".py",
   "mimetype": "text/x-python",
   "name": "python",
   "nbconvert_exporter": "python",
   "pygments_lexer": "ipython3",
   "version": "3.12.7"
  }
 },
 "nbformat": 4,
 "nbformat_minor": 5
}
