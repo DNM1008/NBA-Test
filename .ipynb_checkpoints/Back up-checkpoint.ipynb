{
 "cells": [
  {
   "cell_type": "code",
   "execution_count": 196,
   "id": "b23125f7-3b3a-47a7-8eae-0e6156551a52",
   "metadata": {},
   "outputs": [],
   "source": [
    "import pandas as pd\n",
    "from sklearn.preprocessing import OneHotEncoder, StandardScaler\n",
    "from sklearn.compose import ColumnTransformer\n",
    "from sklearn.metrics.pairwise import cosine_similarity\n",
    "import numpy as np\n",
    "from annoy import AnnoyIndex\n",
    "from sklearn.impute import SimpleImputer\n",
    "from sklearn.pipeline import Pipeline\n",
    "# from sklearn.metrics import accuracy_score, classification_report\n",
    "from sklearn.model_selection import train_test_split\n",
    "# from sklearn.preprocessing import normalize\n",
    "# from joblib import Parallel, delayed\n",
    "# from scipy.sparse import csr_matrix\n",
    "# import gower\n",
    "import pprint"
   ]
  },
  {
   "cell_type": "code",
   "execution_count": null,
   "id": "3d9aa66d-55b7-499d-907c-6d180f2873de",
   "metadata": {},
   "outputs": [],
   "source": [
    "data_df = pd.read_csv('data.csv')\n",
    "dict_df = pd.read_excel('dict.xlsx')"
   ]
  },
  {
   "cell_type": "code",
   "execution_count": null,
   "id": "8c237f0c-79de-403d-932e-ec1475f3ab97",
   "metadata": {},
   "outputs": [],
   "source": [
    "# pprint.pprint(df.dtypes)"
   ]
  },
  {
   "cell_type": "code",
   "execution_count": null,
   "id": "b444fb11-6e3a-4436-826c-1e8f5593f6f1",
   "metadata": {},
   "outputs": [],
   "source": [
    "#df.style\n",
    "# df.shape"
   ]
  },
  {
   "cell_type": "code",
   "execution_count": null,
   "id": "fa918fbb-1e5a-46a2-b2a4-641d578d72ac",
   "metadata": {},
   "outputs": [],
   "source": [
    "# df.isna().sum()"
   ]
  },
  {
   "cell_type": "code",
   "execution_count": null,
   "id": "31b302fa-dda2-46e0-8faf-06168d107bc3",
   "metadata": {},
   "outputs": [],
   "source": [
    "# for col in data_df.columns:\n",
    "    \n",
    "#     print (col + \":\", data_df[col].dtype, data_df[col].unique().size)"
   ]
  },
  {
   "cell_type": "code",
   "execution_count": null,
   "id": "ea47a0b5-2d5a-4ced-a653-d8715966cb94",
   "metadata": {},
   "outputs": [],
   "source": [
    "# data_df['THOIGIANLAMVIECLVHT'].value_counts()\n",
    "# data_df['SONGUOIPHUTHUOC'].value_counts()"
   ]
  },
  {
   "cell_type": "code",
   "execution_count": null,
   "id": "ee749c4c-36d7-44a0-bc0f-08a7933801bb",
   "metadata": {},
   "outputs": [],
   "source": [
    "# Dropping columns\n",
    "data_df = data_df.drop(columns=['Age_x', 'Unnamed: 0.1', 'Unnamed: 0', 'CIF_CLSCUS', 'COB_DATE', 'DATE_TIME', 'BRN_OPN_CIF', 'MA_PHONG_GIAO_DICH_VCB', 'CIF_MASK'])\n",
    "\n",
    "data_columns = set(data_df.columns)\n",
    "\n",
    "# Filter the dictionary DataFrame to include only rows where VarName is in data_columns\n",
    "filtered_dict_df = dict_df[dict_df['VarName'].isin(data_columns)]\n",
    "\n",
    "# Save or inspect the filtered dictionary\n",
    "# filtered_dict_df.to_excel('filtered_dict.xlsx', index=False)\n",
    "# print(filtered_dict_df)\n",
    "\n",
    "# Separate numerical and categorical columns in data.csv\n",
    "numerical_vars = data_df.select_dtypes(include=['number']).columns\n",
    "# to_scale_vars = numeric_vars.drop(columns = [''])\n",
    "categorical_vars = data_df.select_dtypes(exclude=['number']).columns\n",
    "\n",
    "# Filter the dictionary for numerical and categorical variables\n",
    "numerical_dict_df = dict_df[dict_df['VarName'].isin(numerical_vars)]\n",
    "categorical_dict_df = dict_df[dict_df['VarName'].isin(categorical_vars)]\n",
    "# Save or inspect the separated dictionaries\n",
    "numerical_dict_df.to_excel('numerical_dict.xlsx', index=False)\n",
    "categorical_dict_df.to_excel('categorical_dict.xlsx', index=False)\n",
    "data_df.replace([np.inf, -np.inf], np.nan, inplace=True)\n",
    "# data_df.head()\n",
    "print(\"Range of Numerical Columns:\")\n",
    "for col in numerical_vars:\n",
    "    min_val = data_df[col].min()\n",
    "    max_val = data_df[col].max()\n",
    "    print(f\"{col}: Min = {min_val}, Max = {max_val}\")\n",
    "\n",
    "# Print unique values in categorical columns\n",
    "print(\"\\nCategories in Categorical Columns:\")\n",
    "for col in categorical_vars:\n",
    "    unique_vals = data_df[col].unique()\n",
    "    print(f\"{col}: Unique Values = {unique_vals}\")"
   ]
  },
  {
   "cell_type": "code",
   "execution_count": null,
   "id": "427cd96c-ba51-4ab2-902a-f27e7ec98f11",
   "metadata": {},
   "outputs": [],
   "source": [
    "# Transform data\n",
    "\n",
    "# le = LabelEncoder()\n",
    "\n",
    "# label_mappings = {}\n",
    "# data_df['Prio_flag'] = le.fit_transform(data_df['Prio_flag'])\n",
    "# label_mappings = dict(zip(le.classes_. le.transform(le.classes_)))\n",
    "# for var in categorical_vars:\n",
    "#     data_df[var] = le.fit_transform(data_df[var])\n",
    "#     label_mappings[var] = dict(zip(le.classes_, le.transform(le.classes_)))\n",
    "# mappings = pd.DataFrame(label_mappings)\n",
    "# mappings.to_csv('Mappings.csv', index=False)\n",
    "# pprint.pprint(label_mappings)\n",
    "\n",
    "def preprocess_data(df):\n",
    "    # Separate categorical and numerical columns\n",
    "    categorical_cols = df.select_dtypes(include=['object']).columns\n",
    "    numerical_cols = df.select_dtypes(exclude=['object']).columns\n",
    "    \n",
    "    # Preprocess with OneHotEncoder and StandardScaler\n",
    "    preprocessor = ColumnTransformer(\n",
    "    transformers=[\n",
    "        ('num', Pipeline([\n",
    "            ('imputer', SimpleImputer(strategy='constant', fill_value=-9999999999999999999999)),\n",
    "            ('scaler', StandardScaler())\n",
    "        ]), numerical_cols),\n",
    "        \n",
    "        ('cat', Pipeline([\n",
    "            ('imputer', SimpleImputer(strategy='constant', fill_value='None')),\n",
    "            # ('imputer', SimpleImputer(strategy='most_frequent')),\n",
    "            ('encoder', OneHotEncoder(sparse_output=False, handle_unknown='ignore'))\n",
    "        ]), categorical_cols)\n",
    "        ])\n",
    "    \n",
    "    processed_data = preprocessor.fit_transform(df)\n",
    "    return processed_data, preprocessor"
   ]
  },
  {
   "cell_type": "code",
   "execution_count": null,
   "id": "e1ae3f14-3623-49c2-b042-1e0915ea2733",
   "metadata": {},
   "outputs": [],
   "source": [
    "# data_df['IS_BANCAS'].head()"
   ]
  },
  {
   "cell_type": "code",
   "execution_count": null,
   "id": "d89f25df-4426-4c4c-a31f-dcdb1b360b51",
   "metadata": {},
   "outputs": [],
   "source": [
    "# Annoy search setup and query function\n",
    "def create_annoy_index(data_matrix, metric='angular'):\n",
    "    \"\"\"\n",
    "    Creates an Annoy index for the given data matrix with the specified similarity metric.\n",
    "    \"\"\"\n",
    "    dim = data_matrix.shape[1]\n",
    "    index = AnnoyIndex(dim, metric)  # 'angular' for cosine similarity\n",
    "    \n",
    "    for i in range(len(data_matrix)):\n",
    "        index.add_item(i, data_matrix[i].tolist())  # Convert each row to list for Annoy\n",
    "    \n",
    "    index.build(50)  # Building index with 20 trees for higher accuracy\n",
    "    return index"
   ]
  },
  {
   "cell_type": "code",
   "execution_count": null,
   "id": "8d6501ab-482c-40eb-a6b1-1a8e0f96f91f",
   "metadata": {},
   "outputs": [],
   "source": [
    "def find_top_k_similar(index, query_vector, k=50):\n",
    "    \"\"\"\n",
    "    Find the top K similar rows for the given query vector using the Annoy index.\n",
    "    \"\"\"\n",
    "    indices, distances = index.get_nns_by_vector(query_vector.flatten().tolist(), k, include_distances=True)\n",
    "    return indices, distances"
   ]
  },
  {
   "cell_type": "code",
   "execution_count": null,
   "id": "e0774251-71c6-47b9-8765-963795aadd9f",
   "metadata": {},
   "outputs": [],
   "source": [
    "test_observation = pd.DataFrame(\n",
    "    {\n",
    "        'CBALQ_3m': [1289834],\n",
    "        'AVG_SL_SP_BOSUNG': [3],\n",
    "        'NO_TREN_CO_6m': [34523] ,\n",
    "        'LOAIHINHCOQUANDANGCONGTAC': ['Các tổ chức, doanh nghiệp, định chế tài chính khác'],\n",
    "        'SUM_CBALQ_LH': [34523464],\n",
    "        'BHNT_flag': [1],\n",
    "        'MEDIAN_GR_SUM_AMT': [456245234],\n",
    "        'TINHTRANGSOHUUNHA': ['Nhà đi thuê'],\n",
    "        'TINHTRANGHONNHAN': ['Độc thân'],\n",
    "        'Khu_vuc': ['HN'],\n",
    "        'BHNT_after21': [1],\n",
    "        'Sum_PPC': [4],\n",
    "        'MEDIAN_GR_THGCO': [436456435],\n",
    "        'BHSK_remain': [1],\n",
    "        'IS_BANCAS': [0],\n",
    "        'AVG_GR_CBALQ': [345234346],\n",
    "        'CBALQ_6m': [43645677],\n",
    "        'AVG_CBALQ_6m': [325234],\n",
    "        'BHNT_remain': [1],\n",
    "        'AVG_GR_THGCO': [4563470],\n",
    "        'IS_TM.1': [1],\n",
    "        'Age_y': [30],\n",
    "        'THGCO_3m': [324546],\n",
    "        'SUM_CBALQ_LH_6m': [7876987],\n",
    "        'CNT_TGCCKH': [43],\n",
    "        'THGNO_6m': [43534546],\n",
    "        'IS_TA': [1],\n",
    "        'TONGTHUNHAPHANGTHANG': [15000000],\n",
    "        'IS_TM': [1],\n",
    "        'Snapshot': [23246],\n",
    "        'BHSK_flag': [1],\n",
    "        'THGCO_6m': [4540953458],\n",
    "        'AVG_GR_SUM_CBALQ_LH': [3245324],\n",
    "        'MEDIAN_GR_CBALQ': [2345234],\n",
    "        'AVG_CBALQ_TGCCKH': [234532],\n",
    "        'THGNO_3m': [643523452],\n",
    "        'TINHCHATCONGVIECHIENTAI': ['Cán bộ văn phòng/ Chuyên viên, kinh doanh có đăng ký/ Lao động được đào tạo nghề/Công nhân lành nghề/Kinh doanh tự do'],\n",
    "        'SUM_CBALQ_LH_3m': [54375477],\n",
    "        'AVG_AMT_3M': [35457657],\n",
    "        'NO_TREN_CO_3m': [345634536],\n",
    "        'AVG_CBALQ_3m': [76094657],\n",
    "        'Prio_flag': [True],\n",
    "        'SONGUOIPHUTHUOC': ['Dưới 2 người'],\n",
    "        'THOIGIANLAMVIECLVHT': ['Dưới 1 năm'],\n",
    "        'BHSK_after21': [1],\n",
    "        'Payroll_Flag': [1],\n",
    "        'AVG_GR_THGNO': [3465453],\n",
    "        'CUS_GEN': ['M'],\n",
    "        'MEDIAN_GR_THGNO': [43624352],\n",
    "        'SUM_AMT_TRANSFER_3m': [234562345234],\n",
    "        'SUM_NOT_TRANSFER_3m': [34545234234]\n",
    "    }\n",
    ")\n",
    "test_observation1 = data_df.iloc[948569:948570]\n",
    "test_observation2 = data_df.iloc[10:11]"
   ]
  },
  {
   "cell_type": "code",
   "execution_count": null,
   "id": "623f64cf-3f00-46e2-83b3-da85564e1bcf",
   "metadata": {},
   "outputs": [],
   "source": [
    "test_observation2.dtypes\n",
    "print(test_observation2['IS_BANCAS'])"
   ]
  },
  {
   "cell_type": "code",
   "execution_count": null,
   "id": "517cfcda-0080-47e6-8e55-9a8b3c44b248",
   "metadata": {},
   "outputs": [],
   "source": [
    "# Train model\n",
    "train_df = data_df.sample(frac=0.8, random_state=42)\n",
    "test_df = data_df.drop(train_df.index)\n",
    "y_test = test_df['IS_BANCAS']"
   ]
  },
  {
   "cell_type": "code",
   "execution_count": null,
   "id": "b684f2d4-7a80-4c64-a354-22dd1dc23c8a",
   "metadata": {},
   "outputs": [],
   "source": [
    "# print(test_df.iloc[1])\n",
    "print(test_df.shape[0])"
   ]
  },
  {
   "cell_type": "code",
   "execution_count": null,
   "id": "499e06a3-e42c-42c1-8e4d-1e9cbde53cf1",
   "metadata": {},
   "outputs": [],
   "source": [
    "# Test\n",
    "\n",
    "\n",
    "\n",
    "train_matrix, preprocessor = preprocess_data(train_df)\n",
    "index = create_annoy_index(train_matrix, metric='angular')\n",
    "def pred_col_filt(query, index = index, train_df = train_df):\n",
    " \n",
    "    query_vector = preprocessor.transform(query)\n",
    "    indices, distances = find_top_k_similar(index, query_vector)\n",
    "    expected_BANCAS = train_df.iloc[indices]['IS_BANCAS'].mean()\n",
    "    return expected_BANCAS\n",
    "y_pred = []\n",
    "for i in range (test_df.shape[0]):\n",
    "    expected_BANCAS = pred_col_filt(test_df.iloc[i:(i+1)])\n",
    "    y_pred.append(expected_BANCAS)\n",
    "# accuracy  = accuracy_score(y_test.tolist(), y_pred)\n",
    "# print(\"Model accuracy:\", accuracy)    \n",
    "\n",
    "# data_matrix, preprocessor = preprocess_data(data_df)\n",
    "# index = create_annoy_index(data_matrix, metric='angular')\n",
    "\n",
    "# query_vector = preprocessor.transform(test_observation1)\n",
    "\n",
    "# indices, distances = find_top_k_similar(index, query_vector)\n",
    "\n",
    "# # print(\"Top 10 similar rows:\")\n",
    "# # print(data_df.iloc[indices])\n",
    "# # print(data_df.iloc[indices]['IS_BANCAS'])\n",
    "# expected_BANCAS = data_df.iloc[indices]['IS_BANCAS'].mean()\n",
    "# print(\"Expected ISBANCAS:\")\n",
    "# print(expected_BANCAS)\n",
    "# print('Recommendation:')\n",
    "# if (expected_BANCAS >= 0.5):\n",
    "#     print('Gioi thieu san pham bao hiem')\n",
    "# else:\n",
    "#     print('Khong gioi thieu san pham bao hiem')\n",
    "# # print(distances)\n"
   ]
  },
  {
   "cell_type": "code",
   "execution_count": null,
   "id": "bd57b730-4c5f-401f-a139-065ba571ade5",
   "metadata": {},
   "outputs": [],
   "source": [
    "# print(data_df.iloc[1094])\n",
    "# print(y_pred[:10])\n",
    "# print(y_test.head())\n",
    "# accuracy  = accuracy_score(y_test.astype(np.float64), y_pred)\n",
    "# print(\"Model accuracy:\", accuracy)    \n",
    "# diff = y_test.astype(np.float64) - y_pred\n",
    "\n",
    "y_pred = [int(value) for value in y_pred]\n",
    "\n",
    "# diff = y_test - y_pred\n",
    "\n",
    "# print(diff.shape[0])\n",
    "# # print(diff)\n",
    "# accuracy = diff[diff == 0].count()/diff.shape[0]\n",
    "\n",
    "accuracy = accuracy_score(y_test, y_pred)\n",
    "accuracy = round(accuracy, 4)"
   ]
  },
  {
   "cell_type": "code",
   "execution_count": null,
   "id": "2b686648-985d-4750-ac3c-c8c6cce3de4d",
   "metadata": {},
   "outputs": [],
   "source": [
    "print(\"Model Accuracy:\", str(accuracy*100) +\"%\")\n",
    "print(\"\\nClassification Report:\")\n",
    "print(classification_report(y_test, y_pred))"
   ]
  }
 ],
 "metadata": {
  "kernelspec": {
   "display_name": "Python 3 (ipykernel)",
   "language": "python",
   "name": "python3"
  },
  "language_info": {
   "codemirror_mode": {
    "name": "ipython",
    "version": 3
   },
   "file_extension": ".py",
   "mimetype": "text/x-python",
   "name": "python",
   "nbconvert_exporter": "python",
   "pygments_lexer": "ipython3",
   "version": "3.12.7"
  }
 },
 "nbformat": 4,
 "nbformat_minor": 5
}
