{
 "cells": [
  {
   "cell_type": "code",
   "execution_count": 1,
   "id": "bd0d24dd-6b29-45ec-8013-fab8a6cac200",
   "metadata": {},
   "outputs": [],
   "source": [
    "from annoy import AnnoyIndex\n",
    "from joblib import Parallel, delayed\n",
    "from sklearn.compose import ColumnTransformer\n",
    "from sklearn.impute import SimpleImputer\n",
    "from sklearn.metrics import accuracy_score, auc, classification_report, roc_auc_score, roc_curve\n",
    "from sklearn.metrics.pairwise import cosine_similarity\n",
    "from sklearn.model_selection import train_test_split, RandomizedSearchCV\n",
    "from sklearn.pipeline import Pipeline\n",
    "from sklearn.preprocessing import OneHotEncoder, StandardScaler\n",
    "import dill\n",
    "import matplotlib.pyplot as plt\n",
    "import numpy as np\n",
    "import pickle\n",
    "import pprint\n",
    "import pandas as pd\n",
    "import xgboost as xgb"
   ]
  },
  {
   "cell_type": "code",
   "execution_count": 2,
   "id": "8bc572b9-0ef5-4ef6-9b20-5d3ae3fa1266",
   "metadata": {},
   "outputs": [],
   "source": [
    "train_df = pd.read_csv('data.csv')\n",
    "test_df = pd.read_parquet('data-val.parquet')"
   ]
  },
  {
   "cell_type": "code",
   "execution_count": 3,
   "id": "12196a84-097a-4467-b796-18da0fc411e2",
   "metadata": {},
   "outputs": [
    {
     "name": "stdout",
     "output_type": "stream",
     "text": [
      "Removed columns: {'Unnamed: 0.1', 'SUM_AMT_TRANSFER_3m', 'SUM_NOT_TRANSFER_3m'}\n"
     ]
    }
   ],
   "source": [
    "## Make sure that the dataset \n",
    "\n",
    "# Find common columns\n",
    "common_columns = train_df.columns.intersection(test_df.columns)\n",
    "\n",
    "# Drop uncommon columns\n",
    "removed_columns = set(train_df.columns).symmetric_difference(test_df.columns)\n",
    "train_df_filtered = train_df[common_columns]\n",
    "test_df_filtered = test_df[common_columns]\n",
    "\n",
    "# Print removed columns\n",
    "print(\"Removed columns:\", removed_columns)"
   ]
  },
  {
   "cell_type": "code",
   "execution_count": 4,
   "id": "d8479343-e089-43c2-8c74-95448a1c8382",
   "metadata": {},
   "outputs": [
    {
     "name": "stdout",
     "output_type": "stream",
     "text": [
      "Train data: 57\n",
      "Test data: 57\n"
     ]
    }
   ],
   "source": [
    "# Comparing number of columns\n",
    "print(\"Train data:\", train_df_filtered.shape[1])\n",
    "print(\"Test data:\", test_df_filtered.shape[1])"
   ]
  },
  {
   "cell_type": "code",
   "execution_count": 5,
   "id": "a2130e87-821b-407f-bc84-8899c21ff311",
   "metadata": {},
   "outputs": [],
   "source": [
    "## Dropping irrelavant columns\n",
    "\n",
    "# Train_data\n",
    "train_df_filtered = train_df_filtered.drop(columns=['Age_x','CIF_CLSCUS', 'COB_DATE', 'DATE_TIME', 'BRN_OPN_CIF', 'MA_PHONG_GIAO_DICH_VCB', 'CIF_MASK', 'IS_TM', 'Unnamed: 0', 'SUM_CBALQ_LH_6m', 'SUM_CBALQ_LH_3m', 'AVG_GR_SUM_CBALQ_LH'])\n",
    "\n",
    "# Test_data \n",
    "test_df_filtered = test_df_filtered.drop(columns=['Age_x','CIF_CLSCUS', 'COB_DATE', 'DATE_TIME', 'BRN_OPN_CIF', 'MA_PHONG_GIAO_DICH_VCB', 'CIF_MASK', 'IS_TM', 'Unnamed: 0', 'SUM_CBALQ_LH_6m', 'SUM_CBALQ_LH_3m', 'AVG_GR_SUM_CBALQ_LH'])"
   ]
  },
  {
   "cell_type": "code",
   "execution_count": 6,
   "id": "788cde3a-78d1-47a7-9ce4-085404b59395",
   "metadata": {},
   "outputs": [
    {
     "name": "stdout",
     "output_type": "stream",
     "text": [
      "Train data: 45\n",
      "Test data: 45\n",
      "Selected columns:\n",
      " Index(['CBALQ_3m', 'AVG_SL_SP_BOSUNG', 'NO_TREN_CO_6m',\n",
      "       'LOAIHINHCOQUANDANGCONGTAC', 'SUM_CBALQ_LH', 'BHNT_flag',\n",
      "       'MEDIAN_GR_SUM_AMT', 'TINHTRANGSOHUUNHA', 'TINHTRANGHONNHAN', 'Khu_vuc',\n",
      "       'BHNT_after21', 'Sum_PPC', 'MEDIAN_GR_THGCO', 'BHSK_remain',\n",
      "       'IS_BANCAS', 'AVG_GR_CBALQ', 'CBALQ_6m', 'AVG_CBALQ_6m', 'BHNT_remain',\n",
      "       'AVG_GR_THGCO', 'IS_TM.1', 'Age_y', 'THGCO_3m', 'CNT_TGCCKH',\n",
      "       'THGNO_6m', 'IS_TA', 'TONGTHUNHAPHANGTHANG', 'Snapshot', 'BHSK_flag',\n",
      "       'THGCO_6m', 'MEDIAN_GR_CBALQ', 'AVG_CBALQ_TGCCKH', 'THGNO_3m',\n",
      "       'TINHCHATCONGVIECHIENTAI', 'AVG_AMT_3M', 'NO_TREN_CO_3m',\n",
      "       'AVG_CBALQ_3m', 'Prio_flag', 'SONGUOIPHUTHUOC', 'THOIGIANLAMVIECLVHT',\n",
      "       'BHSK_after21', 'Payroll_Flag', 'AVG_GR_THGNO', 'CUS_GEN',\n",
      "       'MEDIAN_GR_THGNO'],\n",
      "      dtype='object')\n"
     ]
    }
   ],
   "source": [
    "# Comparing number of columns\n",
    "print(\"Train data:\", train_df_filtered.shape[1])\n",
    "print(\"Test data:\", test_df_filtered.shape[1])\n",
    "print('Selected columns:\\n', test_df_filtered.columns)"
   ]
  },
  {
   "cell_type": "code",
   "execution_count": 7,
   "id": "428f5b37-85aa-4b96-b2da-4a66e1269e4f",
   "metadata": {},
   "outputs": [
    {
     "name": "stderr",
     "output_type": "stream",
     "text": [
      "/home/zeus/.local/lib/python3.12/site-packages/numpy/lib/_function_base_impl.py:4620: RuntimeWarning: invalid value encountered in subtract\n",
      "  diff_b_a = subtract(b, a)\n",
      "/home/zeus/.local/lib/python3.12/site-packages/numpy/lib/_function_base_impl.py:4620: RuntimeWarning: invalid value encountered in subtract\n",
      "  diff_b_a = subtract(b, a)\n",
      "/home/zeus/.local/lib/python3.12/site-packages/numpy/lib/_function_base_impl.py:4620: RuntimeWarning: invalid value encountered in subtract\n",
      "  diff_b_a = subtract(b, a)\n",
      "/home/zeus/.local/lib/python3.12/site-packages/numpy/lib/_function_base_impl.py:4620: RuntimeWarning: invalid value encountered in subtract\n",
      "  diff_b_a = subtract(b, a)\n",
      "/home/zeus/.local/lib/python3.12/site-packages/numpy/lib/_function_base_impl.py:4620: RuntimeWarning: invalid value encountered in subtract\n",
      "  diff_b_a = subtract(b, a)\n",
      "/home/zeus/.local/lib/python3.12/site-packages/numpy/lib/_function_base_impl.py:4620: RuntimeWarning: invalid value encountered in subtract\n",
      "  diff_b_a = subtract(b, a)\n",
      "/home/zeus/.local/lib/python3.12/site-packages/numpy/lib/_function_base_impl.py:4620: RuntimeWarning: invalid value encountered in subtract\n",
      "  diff_b_a = subtract(b, a)\n",
      "/home/zeus/.local/lib/python3.12/site-packages/numpy/lib/_function_base_impl.py:4620: RuntimeWarning: invalid value encountered in subtract\n",
      "  diff_b_a = subtract(b, a)\n",
      "/home/zeus/.local/lib/python3.12/site-packages/numpy/lib/_function_base_impl.py:4620: RuntimeWarning: invalid value encountered in subtract\n",
      "  diff_b_a = subtract(b, a)\n",
      "/home/zeus/.local/lib/python3.12/site-packages/numpy/lib/_function_base_impl.py:4620: RuntimeWarning: invalid value encountered in subtract\n",
      "  diff_b_a = subtract(b, a)\n",
      "/home/zeus/.local/lib/python3.12/site-packages/numpy/lib/_function_base_impl.py:4620: RuntimeWarning: invalid value encountered in subtract\n",
      "  diff_b_a = subtract(b, a)\n",
      "/home/zeus/.local/lib/python3.12/site-packages/numpy/lib/_function_base_impl.py:4620: RuntimeWarning: invalid value encountered in subtract\n",
      "  diff_b_a = subtract(b, a)\n",
      "/home/zeus/.local/lib/python3.12/site-packages/numpy/lib/_function_base_impl.py:4620: RuntimeWarning: invalid value encountered in subtract\n",
      "  diff_b_a = subtract(b, a)\n",
      "/home/zeus/.local/lib/python3.12/site-packages/numpy/lib/_function_base_impl.py:4620: RuntimeWarning: invalid value encountered in subtract\n",
      "  diff_b_a = subtract(b, a)\n",
      "/home/zeus/.local/lib/python3.12/site-packages/numpy/lib/_function_base_impl.py:4620: RuntimeWarning: invalid value encountered in subtract\n",
      "  diff_b_a = subtract(b, a)\n",
      "/home/zeus/.local/lib/python3.12/site-packages/numpy/lib/_function_base_impl.py:4620: RuntimeWarning: invalid value encountered in subtract\n",
      "  diff_b_a = subtract(b, a)\n",
      "/home/zeus/.local/lib/python3.12/site-packages/numpy/lib/_function_base_impl.py:4620: RuntimeWarning: invalid value encountered in subtract\n",
      "  diff_b_a = subtract(b, a)\n",
      "/home/zeus/.local/lib/python3.12/site-packages/numpy/lib/_function_base_impl.py:4620: RuntimeWarning: invalid value encountered in subtract\n",
      "  diff_b_a = subtract(b, a)\n"
     ]
    }
   ],
   "source": [
    "## Labelling\n",
    "def labelling (df, col, num_bins):\n",
    "    df[col] = pd.qcut(df[col], q=num_bins, labels=False, duplicates='drop')\n",
    "    return df\n",
    "for col in ['AVG_AMT_3M', 'AVG_CBALQ_3m', 'AVG_CBALQ_6m', 'AVG_CBALQ_TGCCKH',\n",
    "       'AVG_GR_CBALQ', 'AVG_GR_THGCO', 'AVG_GR_THGNO', 'AVG_SL_SP_BOSUNG',\n",
    "        'CBALQ_3m', 'CBALQ_6m', 'CNT_TGCCKH', 'MEDIAN_GR_CBALQ',\n",
    "       'MEDIAN_GR_SUM_AMT', 'MEDIAN_GR_THGCO', 'MEDIAN_GR_THGNO',\n",
    "       'NO_TREN_CO_3m', 'NO_TREN_CO_6m', 'SUM_CBALQ_LH', 'Snapshot', 'Sum_PPC',\n",
    "       'THGCO_3m', 'THGCO_6m', 'THGNO_3m', 'THGNO_6m', 'TONGTHUNHAPHANGTHANG']:\n",
    "    train_df = labelling(train_df_filtered, col, 10)\n",
    "    test_df = labelling(test_df_filtered, col, 10)\n",
    "\n",
    "age_bin_edges = [0, 20, 25, 30, 35, 40, 45, 50, 55, 60, float('inf')]\n",
    "labels = ['Duoi 20', '20 toi 24', '25 toi 29', '30 toi 34', '35 toi 39', '40 toi 44', '45 toi 49', '50 toi 54', '55 toi 59', 'Tren 60']\n",
    "\n",
    "train_df['Age_group'] = pd.cut(train_df['Age_y'], bins=age_bin_edges, labels=labels, right=False)\n",
    "test_df['Age_group'] = pd.cut(test_df['Age_y'], bins=age_bin_edges, labels=labels, right=False)"
   ]
  },
  {
   "cell_type": "code",
   "execution_count": 25,
   "id": "9844ff1b-3dba-4b0e-b1f1-8120e253101a",
   "metadata": {},
   "outputs": [],
   "source": [
    "## Collaborative search\n",
    "\n",
    "# Step 1: Handle missing values and ensure consistent data types\n",
    "def handle_missing_values(df):\n",
    "    df = df.astype(str)\n",
    "    df = df.fillna(\"None\")\n",
    "    return df\n",
    "\n",
    "# Step 2: Preprocess - Encoding categorical variables\n",
    "def preprocess_data(df, target_column, transformer=None):\n",
    "    # Separate features (X) and target (y)\n",
    "    X = df.drop(columns=[target_column])\n",
    "    y = df[target_column]\n",
    "    \n",
    "    # Reset indices for alignment with Annoy\n",
    "    X = X.reset_index(drop=True)\n",
    "    y = y.reset_index(drop=True)\n",
    "    \n",
    "    # Handle missing values and ensure consistent data types\n",
    "    X = handle_missing_values(X)\n",
    "\n",
    "    if transformer is None:\n",
    "        transformer = ColumnTransformer(\n",
    "            transformers=[\n",
    "                ('cat', OneHotEncoder(sparse_output=False, handle_unknown='ignore'), X.columns.tolist())\n",
    "            ],\n",
    "            remainder='passthrough'\n",
    "        )\n",
    "        transformer.fit(X)\n",
    "    \n",
    "    # Transform features\n",
    "    X_transformed = transformer.transform(X)\n",
    "    return X_transformed.astype(np.float32), y.astype(float), transformer\n",
    "\n",
    "# Step 3: Create Annoy Index\n",
    "def create_annoy_index(df, target_column, n_neighbors=20):\n",
    "    # Preprocess the data and separate features and target\n",
    "    X, y, transformer = preprocess_data(df, target_column)\n",
    "    \n",
    "    # Initialize Annoy index\n",
    "    annoy_index = AnnoyIndex(X.shape[1], 'angular')\n",
    "    \n",
    "    # Add items to the Annoy index\n",
    "    for i, vector in enumerate(X):\n",
    "        annoy_index.add_item(i, vector)\n",
    "    \n",
    "    # Build the index\n",
    "    annoy_index.build(100)\n",
    "    \n",
    "    return annoy_index, X, y, transformer  # Return y for later use\n",
    "    \n",
    "def predict_nba_parallel(df, target_column, annoy_index, transformer, y_train, n_neighbors=20, n_jobs=4):\n",
    "    # Preprocess the data and separate features\n",
    "    X, y, _ = preprocess_data(df, target_column, transformer)\n",
    "    \n",
    "    # Function to process a single observation\n",
    "    def process_vector(test_vector):\n",
    "        nearest_neighbors = annoy_index.get_nns_by_vector(test_vector, n_neighbors)  # Find neighbors\n",
    "        similar_train_data = y_train.iloc[nearest_neighbors]  # Use y_train directly\n",
    "        return similar_train_data.mean()  # Average for prediction\n",
    "    \n",
    "    # Parallelize using ThreadPoolExecutor\n",
    "    with ThreadPoolExecutor(max_workers=n_jobs) as executor:\n",
    "        y_pred = list(executor.map(process_vector, X))\n",
    "    \n",
    "    return np.array(y_pred)\n",
    "\n",
    "def predict_nba_joblib(df, target_column, annoy_index, transformer, y_train, n_neighbors=20, n_jobs=-1):\n",
    "    \"\"\"\n",
    "    Predict NBA using Joblib for parallel processing.\n",
    "    \n",
    "    Args:\n",
    "        df (DataFrame): DataFrame containing the test data.\n",
    "        target_column (str): Name of the target column.\n",
    "        annoy_index: Annoy index used for nearest neighbor search.\n",
    "        transformer: Transformer object for preprocessing.\n",
    "        y_train (DataFrame or Series): Training labels.\n",
    "        n_neighbors (int): Number of nearest neighbors to consider.\n",
    "        n_jobs (int): Number of parallel jobs (-1 uses all available processors).\n",
    "    \n",
    "    Returns:\n",
    "        np.ndarray: Array of predicted values.\n",
    "    \"\"\"\n",
    "    # Preprocess the data and separate features\n",
    "    X, y, _ = preprocess_data(df, target_column, transformer)\n",
    "    \n",
    "    # Function to predict for a single vector\n",
    "    def predict_single(test_vector):\n",
    "        nearest_neighbors = annoy_index.get_nns_by_vector(test_vector, n_neighbors)  # Find neighbors\n",
    "        similar_train_data = y_train.iloc[nearest_neighbors]  # Access training labels\n",
    "        return similar_train_data.mean()  # Calculate mean prediction\n",
    "    \n",
    "    # Parallelize the predictions using Joblib\n",
    "    y_pred = Parallel(n_jobs=n_jobs, backend=\"loky\")(\n",
    "        delayed(predict_single)(test_vector) for test_vector in X\n",
    "    )\n",
    "    \n",
    "    return np.array(y_pred)"
   ]
  },
  {
   "cell_type": "code",
   "execution_count": 9,
   "id": "1366ad3f-432e-4bb8-9ef4-6f084ecbcbef",
   "metadata": {},
   "outputs": [
    {
     "data": {
      "text/plain": [
       "True"
      ]
     },
     "execution_count": 9,
     "metadata": {},
     "output_type": "execute_result"
    }
   ],
   "source": [
    "# Training\n",
    "target_column = 'IS_BANCAS'\n",
    "annoy_index, _, y_train, transformer = create_annoy_index(train_df, target_column)\n",
    "\n",
    "# Save the Annoy index to a file\n",
    "annoy_index.save('results/annoy_index.ann')\n",
    "\n"
   ]
  },
  {
   "cell_type": "code",
   "execution_count": 26,
   "id": "b9627cf7-e033-470b-82f1-57ca8ea187d9",
   "metadata": {},
   "outputs": [],
   "source": [
    "# Save the transformer and y_train using pickle\n",
    "\n",
    "# Save the Annoy index, transformer, y_train, and predict_nba_parallel function\n",
    "with open('results/collaborative_search_model_with_joblib.pkl', 'wb') as f:\n",
    "    dill.dump({\n",
    "        # 'annoy_index': annoy_index,\n",
    "        'transformer': transformer,\n",
    "        'y_train': y_train,\n",
    "        'predict_nba_parallel': predict_nba_joblib  # Save the function\n",
    "    }, f)"
   ]
  },
  {
   "cell_type": "code",
   "execution_count": 27,
   "id": "e18114a1-e7fe-4a9a-8895-4794979aa827",
   "metadata": {},
   "outputs": [
    {
     "ename": "PicklingError",
     "evalue": "Could not pickle the task to send it to the workers.",
     "output_type": "error",
     "traceback": [
      "\u001b[0;31m---------------------------------------------------------------------------\u001b[0m",
      "\u001b[0;31m_RemoteTraceback\u001b[0m                          Traceback (most recent call last)",
      "\u001b[0;31m_RemoteTraceback\u001b[0m: \n\"\"\"\nTraceback (most recent call last):\n  File \"/home/zeus/.local/lib/python3.12/site-packages/joblib/externals/loky/backend/queues.py\", line 159, in _feed\n    obj_ = dumps(obj, reducers=reducers)\n           ^^^^^^^^^^^^^^^^^^^^^^^^^^^^^\n  File \"/home/zeus/.local/lib/python3.12/site-packages/joblib/externals/loky/backend/reduction.py\", line 215, in dumps\n    dump(obj, buf, reducers=reducers, protocol=protocol)\n  File \"/home/zeus/.local/lib/python3.12/site-packages/joblib/externals/loky/backend/reduction.py\", line 208, in dump\n    _LokyPickler(file, reducers=reducers, protocol=protocol).dump(obj)\n  File \"/home/zeus/.local/lib/python3.12/site-packages/joblib/externals/cloudpickle/cloudpickle.py\", line 1245, in dump\n    return super().dump(obj)\n           ^^^^^^^^^^^^^^^^^\nTypeError: cannot pickle 'annoy.Annoy' object\n\"\"\"",
      "\nThe above exception was the direct cause of the following exception:\n",
      "\u001b[0;31mPicklingError\u001b[0m                             Traceback (most recent call last)",
      "Cell \u001b[0;32mIn[27], line 6\u001b[0m\n\u001b[1;32m      1\u001b[0m \u001b[38;5;66;03m# Testing\u001b[39;00m\n\u001b[1;32m      2\u001b[0m \n\u001b[1;32m      3\u001b[0m \u001b[38;5;66;03m## On training data\u001b[39;00m\n\u001b[1;32m      4\u001b[0m \n\u001b[1;32m      5\u001b[0m \u001b[38;5;66;03m### Collaborative search\u001b[39;00m\n\u001b[0;32m----> 6\u001b[0m y_pred_col_train \u001b[38;5;241m=\u001b[39m \u001b[43mpredict_nba_joblib\u001b[49m\u001b[43m(\u001b[49m\u001b[43mtrain_df\u001b[49m\u001b[43m,\u001b[49m\u001b[43m \u001b[49m\u001b[43mtarget_column\u001b[49m\u001b[43m,\u001b[49m\u001b[43m \u001b[49m\u001b[43mannoy_index\u001b[49m\u001b[43m,\u001b[49m\u001b[43m \u001b[49m\u001b[43mtransformer\u001b[49m\u001b[43m,\u001b[49m\u001b[43m \u001b[49m\u001b[43my_train\u001b[49m\u001b[43m)\u001b[49m\n\u001b[1;32m      7\u001b[0m y_pred_col_train_round \u001b[38;5;241m=\u001b[39m y_pred_col_train\u001b[38;5;241m.\u001b[39mround()\n\u001b[1;32m      9\u001b[0m \u001b[38;5;66;03m## On testing data\u001b[39;00m\n",
      "Cell \u001b[0;32mIn[25], line 98\u001b[0m, in \u001b[0;36mpredict_nba_joblib\u001b[0;34m(df, target_column, y_train, annoy_index_file, n_neighbors, n_jobs)\u001b[0m\n\u001b[1;32m     95\u001b[0m X \u001b[38;5;241m=\u001b[39m df\u001b[38;5;241m.\u001b[39mdrop(columns\u001b[38;5;241m=\u001b[39m[target_column])\u001b[38;5;241m.\u001b[39mreset_index(drop\u001b[38;5;241m=\u001b[39m\u001b[38;5;28;01mTrue\u001b[39;00m)\n\u001b[1;32m     97\u001b[0m \u001b[38;5;66;03m# Parallelize the predictions using Joblib, where each worker loads the Annoy index independently\u001b[39;00m\n\u001b[0;32m---> 98\u001b[0m y_pred \u001b[38;5;241m=\u001b[39m \u001b[43mParallel\u001b[49m\u001b[43m(\u001b[49m\u001b[43mn_jobs\u001b[49m\u001b[38;5;241;43m=\u001b[39;49m\u001b[43mn_jobs\u001b[49m\u001b[43m)\u001b[49m\u001b[43m(\u001b[49m\u001b[43mdelayed\u001b[49m\u001b[43m(\u001b[49m\u001b[43mprocess_vector\u001b[49m\u001b[43m)\u001b[49m\u001b[43m(\u001b[49m\u001b[43mtest_vector\u001b[49m\u001b[43m)\u001b[49m\u001b[43m \u001b[49m\u001b[38;5;28;43;01mfor\u001b[39;49;00m\u001b[43m \u001b[49m\u001b[43mtest_vector\u001b[49m\u001b[43m \u001b[49m\u001b[38;5;129;43;01min\u001b[39;49;00m\u001b[43m \u001b[49m\u001b[43mX\u001b[49m\u001b[38;5;241;43m.\u001b[39;49m\u001b[43mto_numpy\u001b[49m\u001b[43m(\u001b[49m\u001b[43m)\u001b[49m\u001b[43m)\u001b[49m\n\u001b[1;32m    100\u001b[0m \u001b[38;5;28;01mreturn\u001b[39;00m np\u001b[38;5;241m.\u001b[39marray(y_pred)\n",
      "File \u001b[0;32m~/.local/lib/python3.12/site-packages/joblib/parallel.py:2007\u001b[0m, in \u001b[0;36mParallel.__call__\u001b[0;34m(self, iterable)\u001b[0m\n\u001b[1;32m   2001\u001b[0m \u001b[38;5;66;03m# The first item from the output is blank, but it makes the interpreter\u001b[39;00m\n\u001b[1;32m   2002\u001b[0m \u001b[38;5;66;03m# progress until it enters the Try/Except block of the generator and\u001b[39;00m\n\u001b[1;32m   2003\u001b[0m \u001b[38;5;66;03m# reaches the first `yield` statement. This starts the asynchronous\u001b[39;00m\n\u001b[1;32m   2004\u001b[0m \u001b[38;5;66;03m# dispatch of the tasks to the workers.\u001b[39;00m\n\u001b[1;32m   2005\u001b[0m \u001b[38;5;28mnext\u001b[39m(output)\n\u001b[0;32m-> 2007\u001b[0m \u001b[38;5;28;01mreturn\u001b[39;00m output \u001b[38;5;28;01mif\u001b[39;00m \u001b[38;5;28mself\u001b[39m\u001b[38;5;241m.\u001b[39mreturn_generator \u001b[38;5;28;01melse\u001b[39;00m \u001b[38;5;28;43mlist\u001b[39;49m\u001b[43m(\u001b[49m\u001b[43moutput\u001b[49m\u001b[43m)\u001b[49m\n",
      "File \u001b[0;32m~/.local/lib/python3.12/site-packages/joblib/parallel.py:1650\u001b[0m, in \u001b[0;36mParallel._get_outputs\u001b[0;34m(self, iterator, pre_dispatch)\u001b[0m\n\u001b[1;32m   1647\u001b[0m     \u001b[38;5;28;01myield\u001b[39;00m\n\u001b[1;32m   1649\u001b[0m     \u001b[38;5;28;01mwith\u001b[39;00m \u001b[38;5;28mself\u001b[39m\u001b[38;5;241m.\u001b[39m_backend\u001b[38;5;241m.\u001b[39mretrieval_context():\n\u001b[0;32m-> 1650\u001b[0m         \u001b[38;5;28;01myield from\u001b[39;00m \u001b[38;5;28mself\u001b[39m\u001b[38;5;241m.\u001b[39m_retrieve()\n\u001b[1;32m   1652\u001b[0m \u001b[38;5;28;01mexcept\u001b[39;00m \u001b[38;5;167;01mGeneratorExit\u001b[39;00m:\n\u001b[1;32m   1653\u001b[0m     \u001b[38;5;66;03m# The generator has been garbage collected before being fully\u001b[39;00m\n\u001b[1;32m   1654\u001b[0m     \u001b[38;5;66;03m# consumed. This aborts the remaining tasks if possible and warn\u001b[39;00m\n\u001b[1;32m   1655\u001b[0m     \u001b[38;5;66;03m# the user if necessary.\u001b[39;00m\n\u001b[1;32m   1656\u001b[0m     \u001b[38;5;28mself\u001b[39m\u001b[38;5;241m.\u001b[39m_exception \u001b[38;5;241m=\u001b[39m \u001b[38;5;28;01mTrue\u001b[39;00m\n",
      "File \u001b[0;32m~/.local/lib/python3.12/site-packages/joblib/parallel.py:1754\u001b[0m, in \u001b[0;36mParallel._retrieve\u001b[0;34m(self)\u001b[0m\n\u001b[1;32m   1747\u001b[0m \u001b[38;5;28;01mwhile\u001b[39;00m \u001b[38;5;28mself\u001b[39m\u001b[38;5;241m.\u001b[39m_wait_retrieval():\n\u001b[1;32m   1748\u001b[0m \n\u001b[1;32m   1749\u001b[0m     \u001b[38;5;66;03m# If the callback thread of a worker has signaled that its task\u001b[39;00m\n\u001b[1;32m   1750\u001b[0m     \u001b[38;5;66;03m# triggered an exception, or if the retrieval loop has raised an\u001b[39;00m\n\u001b[1;32m   1751\u001b[0m     \u001b[38;5;66;03m# exception (e.g. `GeneratorExit`), exit the loop and surface the\u001b[39;00m\n\u001b[1;32m   1752\u001b[0m     \u001b[38;5;66;03m# worker traceback.\u001b[39;00m\n\u001b[1;32m   1753\u001b[0m     \u001b[38;5;28;01mif\u001b[39;00m \u001b[38;5;28mself\u001b[39m\u001b[38;5;241m.\u001b[39m_aborting:\n\u001b[0;32m-> 1754\u001b[0m         \u001b[38;5;28;43mself\u001b[39;49m\u001b[38;5;241;43m.\u001b[39;49m\u001b[43m_raise_error_fast\u001b[49m\u001b[43m(\u001b[49m\u001b[43m)\u001b[49m\n\u001b[1;32m   1755\u001b[0m         \u001b[38;5;28;01mbreak\u001b[39;00m\n\u001b[1;32m   1757\u001b[0m     \u001b[38;5;66;03m# If the next job is not ready for retrieval yet, we just wait for\u001b[39;00m\n\u001b[1;32m   1758\u001b[0m     \u001b[38;5;66;03m# async callbacks to progress.\u001b[39;00m\n",
      "File \u001b[0;32m~/.local/lib/python3.12/site-packages/joblib/parallel.py:1789\u001b[0m, in \u001b[0;36mParallel._raise_error_fast\u001b[0;34m(self)\u001b[0m\n\u001b[1;32m   1785\u001b[0m \u001b[38;5;66;03m# If this error job exists, immediately raise the error by\u001b[39;00m\n\u001b[1;32m   1786\u001b[0m \u001b[38;5;66;03m# calling get_result. This job might not exists if abort has been\u001b[39;00m\n\u001b[1;32m   1787\u001b[0m \u001b[38;5;66;03m# called directly or if the generator is gc'ed.\u001b[39;00m\n\u001b[1;32m   1788\u001b[0m \u001b[38;5;28;01mif\u001b[39;00m error_job \u001b[38;5;129;01mis\u001b[39;00m \u001b[38;5;129;01mnot\u001b[39;00m \u001b[38;5;28;01mNone\u001b[39;00m:\n\u001b[0;32m-> 1789\u001b[0m     \u001b[43merror_job\u001b[49m\u001b[38;5;241;43m.\u001b[39;49m\u001b[43mget_result\u001b[49m\u001b[43m(\u001b[49m\u001b[38;5;28;43mself\u001b[39;49m\u001b[38;5;241;43m.\u001b[39;49m\u001b[43mtimeout\u001b[49m\u001b[43m)\u001b[49m\n",
      "File \u001b[0;32m~/.local/lib/python3.12/site-packages/joblib/parallel.py:745\u001b[0m, in \u001b[0;36mBatchCompletionCallBack.get_result\u001b[0;34m(self, timeout)\u001b[0m\n\u001b[1;32m    739\u001b[0m backend \u001b[38;5;241m=\u001b[39m \u001b[38;5;28mself\u001b[39m\u001b[38;5;241m.\u001b[39mparallel\u001b[38;5;241m.\u001b[39m_backend\n\u001b[1;32m    741\u001b[0m \u001b[38;5;28;01mif\u001b[39;00m backend\u001b[38;5;241m.\u001b[39msupports_retrieve_callback:\n\u001b[1;32m    742\u001b[0m     \u001b[38;5;66;03m# We assume that the result has already been retrieved by the\u001b[39;00m\n\u001b[1;32m    743\u001b[0m     \u001b[38;5;66;03m# callback thread, and is stored internally. It's just waiting to\u001b[39;00m\n\u001b[1;32m    744\u001b[0m     \u001b[38;5;66;03m# be returned.\u001b[39;00m\n\u001b[0;32m--> 745\u001b[0m     \u001b[38;5;28;01mreturn\u001b[39;00m \u001b[38;5;28;43mself\u001b[39;49m\u001b[38;5;241;43m.\u001b[39;49m\u001b[43m_return_or_raise\u001b[49m\u001b[43m(\u001b[49m\u001b[43m)\u001b[49m\n\u001b[1;32m    747\u001b[0m \u001b[38;5;66;03m# For other backends, the main thread needs to run the retrieval step.\u001b[39;00m\n\u001b[1;32m    748\u001b[0m \u001b[38;5;28;01mtry\u001b[39;00m:\n",
      "File \u001b[0;32m~/.local/lib/python3.12/site-packages/joblib/parallel.py:763\u001b[0m, in \u001b[0;36mBatchCompletionCallBack._return_or_raise\u001b[0;34m(self)\u001b[0m\n\u001b[1;32m    761\u001b[0m \u001b[38;5;28;01mtry\u001b[39;00m:\n\u001b[1;32m    762\u001b[0m     \u001b[38;5;28;01mif\u001b[39;00m \u001b[38;5;28mself\u001b[39m\u001b[38;5;241m.\u001b[39mstatus \u001b[38;5;241m==\u001b[39m TASK_ERROR:\n\u001b[0;32m--> 763\u001b[0m         \u001b[38;5;28;01mraise\u001b[39;00m \u001b[38;5;28mself\u001b[39m\u001b[38;5;241m.\u001b[39m_result\n\u001b[1;32m    764\u001b[0m     \u001b[38;5;28;01mreturn\u001b[39;00m \u001b[38;5;28mself\u001b[39m\u001b[38;5;241m.\u001b[39m_result\n\u001b[1;32m    765\u001b[0m \u001b[38;5;28;01mfinally\u001b[39;00m:\n",
      "\u001b[0;31mPicklingError\u001b[0m: Could not pickle the task to send it to the workers."
     ]
    }
   ],
   "source": [
    "# Testing\n",
    "\n",
    "## On training data\n",
    "\n",
    "### Collaborative search\n",
    "y_pred_col_train = predict_nba_joblib(train_df, target_column, annoy_index, transformer, y_train)\n",
    "y_pred_col_train_round = y_pred_col_train.round()\n",
    "\n",
    "## On testing data\n",
    "y_pred_col_test = predict_nba_joblib(test_df, target_column, annoy_index, transformer, y_train)\n",
    "y_pred_col_test_round = y_pred_col_test.round()"
   ]
  },
  {
   "cell_type": "code",
   "execution_count": 14,
   "id": "1829645e-9507-41c8-8955-0344ff3e6711",
   "metadata": {},
   "outputs": [],
   "source": [
    "y_test = test_df[target_column]"
   ]
  },
  {
   "cell_type": "code",
   "execution_count": 15,
   "id": "df8530e7-7330-41c3-97c2-8c2ad397a5a0",
   "metadata": {},
   "outputs": [
    {
     "name": "stdout",
     "output_type": "stream",
     "text": [
      "\n",
      "TESTING ON TRAINING DATA:\n",
      "\n"
     ]
    },
    {
     "ename": "NameError",
     "evalue": "name 'y_pred_col_train_round' is not defined",
     "output_type": "error",
     "traceback": [
      "\u001b[0;31m---------------------------------------------------------------------------\u001b[0m",
      "\u001b[0;31mNameError\u001b[0m                                 Traceback (most recent call last)",
      "Cell \u001b[0;32mIn[15], line 8\u001b[0m\n\u001b[1;32m      1\u001b[0m \u001b[38;5;66;03m# Reporting\u001b[39;00m\n\u001b[1;32m      2\u001b[0m \n\u001b[1;32m      3\u001b[0m \u001b[38;5;66;03m## On training data\u001b[39;00m\n\u001b[1;32m      4\u001b[0m \u001b[38;5;28mprint\u001b[39m(\u001b[38;5;124m'\u001b[39m\u001b[38;5;130;01m\\n\u001b[39;00m\u001b[38;5;124mTESTING ON TRAINING DATA:\u001b[39m\u001b[38;5;130;01m\\n\u001b[39;00m\u001b[38;5;124m'\u001b[39m)\n\u001b[0;32m----> 8\u001b[0m accuracy_col_train \u001b[38;5;241m=\u001b[39m accuracy_score(y_train, \u001b[43my_pred_col_train_round\u001b[49m)\n\u001b[1;32m      9\u001b[0m accuracy_col_train \u001b[38;5;241m=\u001b[39m \u001b[38;5;28mround\u001b[39m(accuracy_col_train, \u001b[38;5;241m4\u001b[39m)\n\u001b[1;32m     10\u001b[0m roc_auc_score_col_train \u001b[38;5;241m=\u001b[39m roc_auc_score(y_train, y_pred_col_train)\n",
      "\u001b[0;31mNameError\u001b[0m: name 'y_pred_col_train_round' is not defined"
     ]
    }
   ],
   "source": [
    "# Reporting\n",
    "\n",
    "## On training data\n",
    "print('\\nTESTING ON TRAINING DATA:\\n')\n",
    "\n",
    "\n",
    "\n",
    "accuracy_col_train = accuracy_score(y_train, y_pred_col_train_round)\n",
    "accuracy_col_train = round(accuracy_col_train, 4)\n",
    "roc_auc_score_col_train = roc_auc_score(y_train, y_pred_col_train)\n",
    "gini_col_train = 2 * roc_auc_score_col_train -1\n",
    "\n",
    "print('Model Accuracy:', str(accuracy_col_train * 100))\n",
    "print('\\nClassification Report:')\n",
    "print(classification_report(y_train, y_pred_col_train_round))\n",
    "print(\"ROC AUC Score:\", roc_auc_score_col_train.round(2))\n",
    "print(\"Gini Index:\", gini_col_train.round(2))\n",
    "\n",
    "\n",
    "## On testing data\n",
    "print('\\nTESTING ON TESTING DATA:\\n')\n",
    "\n",
    "\n",
    "\n",
    "accuracy_col_test = accuracy_score(y_test, y_pred_col_test_round)\n",
    "accuracy_col_test = round(accuracy_col_test, 4)\n",
    "roc_auc_score_col_test = roc_auc_score(y_test, y_pred_col_test)\n",
    "gini_col_test = 2 * roc_auc_score_col_test -1\n",
    "\n",
    "print('Model Accuracy:', str(accuracy_col_test * 100) + '%')\n",
    "print('\\nClassification Report:')\n",
    "print(classification_report(y_test, y_pred_col_test_round))\n",
    "print(\"ROC AUC Score:\", roc_auc_score_col_test.round(2))\n",
    "print(\"Gini Index:\", gini_col_test.round(2))\n"
   ]
  },
  {
   "cell_type": "code",
   "execution_count": 16,
   "id": "61f597d2-8684-4b01-9c4f-49eedb383f80",
   "metadata": {},
   "outputs": [
    {
     "ename": "NameError",
     "evalue": "name 'y_pred_col_train' is not defined",
     "output_type": "error",
     "traceback": [
      "\u001b[0;31m---------------------------------------------------------------------------\u001b[0m",
      "\u001b[0;31mNameError\u001b[0m                                 Traceback (most recent call last)",
      "Cell \u001b[0;32mIn[16], line 4\u001b[0m\n\u001b[1;32m      1\u001b[0m \u001b[38;5;66;03m# ROC Curves\u001b[39;00m\n\u001b[1;32m      2\u001b[0m \n\u001b[1;32m      3\u001b[0m \u001b[38;5;66;03m## Train data\u001b[39;00m\n\u001b[0;32m----> 4\u001b[0m fpr_train, tpr_train, thresholds_train \u001b[38;5;241m=\u001b[39m roc_curve(y_train, \u001b[43my_pred_col_train\u001b[49m)\n\u001b[1;32m      5\u001b[0m roc_auc_train \u001b[38;5;241m=\u001b[39m auc(fpr_train, tpr_train)\n\u001b[1;32m      7\u001b[0m \u001b[38;5;66;03m# Insert root point (0,0) into fpr and tpr\u001b[39;00m\n",
      "\u001b[0;31mNameError\u001b[0m: name 'y_pred_col_train' is not defined"
     ]
    }
   ],
   "source": [
    "# ROC Curves\n",
    "\n",
    "## Train data\n",
    "fpr_train, tpr_train, thresholds_train = roc_curve(y_train, y_pred_col_train)\n",
    "roc_auc_train = auc(fpr_train, tpr_train)\n",
    "\n",
    "# Insert root point (0,0) into fpr and tpr\n",
    "fpr_train = [0] + list(fpr_train)\n",
    "tpr_train = [0] + list(tpr_train)\n",
    "\n",
    "## Test data\n",
    "fpr_test, tpr_test, thresholds_test = roc_curve(y_test, y_pred_col_test)\n",
    "roc_auc_test = auc(fpr_test, tpr_test)\n",
    "\n",
    "# Insert root point (0,0) into fpr and tpr\n",
    "fpr_test = [0] + list(fpr_test)\n",
    "tpr_test = [0] + list(tpr_test)"
   ]
  },
  {
   "cell_type": "code",
   "execution_count": 17,
   "id": "18f28d49-a172-4951-b9c7-afb466e8f849",
   "metadata": {},
   "outputs": [],
   "source": [
    "# Colours\n",
    "background_color = '#181926'\n",
    "text_colour = \"#cad3f5\"\n",
    "axis_colour = \"#b8c0e0\"\n",
    "guess_colour = '#8aadf4'\n",
    "roc_train_colour = \"#f0c6c6\"\n",
    "roc_test_colour = \"#91d7e3\"\n"
   ]
  },
  {
   "cell_type": "code",
   "execution_count": 18,
   "id": "b180acc5-74b1-4773-9672-6fe5669de2ed",
   "metadata": {},
   "outputs": [
    {
     "ename": "NameError",
     "evalue": "name 'fpr_train' is not defined",
     "output_type": "error",
     "traceback": [
      "\u001b[0;31m---------------------------------------------------------------------------\u001b[0m",
      "\u001b[0;31mNameError\u001b[0m                                 Traceback (most recent call last)",
      "Cell \u001b[0;32mIn[18], line 17\u001b[0m\n\u001b[1;32m     12\u001b[0m ax\u001b[38;5;241m.\u001b[39mspines[\u001b[38;5;124m'\u001b[39m\u001b[38;5;124mright\u001b[39m\u001b[38;5;124m'\u001b[39m]\u001b[38;5;241m.\u001b[39mset_color(axis_colour)    \u001b[38;5;66;03m# Set left spine color\u001b[39;00m\n\u001b[1;32m     14\u001b[0m \u001b[38;5;66;03m# Plotting\u001b[39;00m\n\u001b[1;32m     15\u001b[0m \n\u001b[1;32m     16\u001b[0m \u001b[38;5;66;03m# Plot the ROC curve\u001b[39;00m\n\u001b[0;32m---> 17\u001b[0m plt\u001b[38;5;241m.\u001b[39mplot(\u001b[43mfpr_train\u001b[49m, tpr_train, color\u001b[38;5;241m=\u001b[39mroc_train_colour, label\u001b[38;5;241m=\u001b[39m\u001b[38;5;124mf\u001b[39m\u001b[38;5;124m'\u001b[39m\u001b[38;5;124mTrain Data ROC Curve (AUC = \u001b[39m\u001b[38;5;132;01m{\u001b[39;00mroc_auc_train\u001b[38;5;132;01m:\u001b[39;00m\u001b[38;5;124m.2f\u001b[39m\u001b[38;5;132;01m}\u001b[39;00m\u001b[38;5;124m)\u001b[39m\u001b[38;5;124m'\u001b[39m)\n\u001b[1;32m     18\u001b[0m plt\u001b[38;5;241m.\u001b[39mplot(fpr_test, tpr_test, color\u001b[38;5;241m=\u001b[39mroc_test_colour, label\u001b[38;5;241m=\u001b[39m\u001b[38;5;124mf\u001b[39m\u001b[38;5;124m'\u001b[39m\u001b[38;5;124mTest data ROC Curve (AUC = \u001b[39m\u001b[38;5;132;01m{\u001b[39;00mroc_auc_test\u001b[38;5;132;01m:\u001b[39;00m\u001b[38;5;124m.2f\u001b[39m\u001b[38;5;132;01m}\u001b[39;00m\u001b[38;5;124m)\u001b[39m\u001b[38;5;124m'\u001b[39m)\n\u001b[1;32m     19\u001b[0m plt\u001b[38;5;241m.\u001b[39mplot([\u001b[38;5;241m0\u001b[39m, \u001b[38;5;241m1\u001b[39m], [\u001b[38;5;241m0\u001b[39m, \u001b[38;5;241m1\u001b[39m], color\u001b[38;5;241m=\u001b[39mguess_colour, linestyle\u001b[38;5;241m=\u001b[39m\u001b[38;5;124m'\u001b[39m\u001b[38;5;124m--\u001b[39m\u001b[38;5;124m'\u001b[39m, label\u001b[38;5;241m=\u001b[39m\u001b[38;5;124m'\u001b[39m\u001b[38;5;124mRandom Guess\u001b[39m\u001b[38;5;124m'\u001b[39m)\n",
      "\u001b[0;31mNameError\u001b[0m: name 'fpr_train' is not defined"
     ]
    },
    {
     "data": {
      "image/png": "[encoded data removed]",
      "text/plain": [
       "<Figure size 800x600 with 1 Axes>"
      ]
     },
     "metadata": {},
     "output_type": "display_data"
    }
   ],
   "source": [
    "# Setting up the plot\n",
    "plt.figure(figsize=(8, 6), facecolor=background_color)\n",
    "ax = plt.gca()  # Get the current Axes\n",
    "ax.set_facecolor(background_color)  # Set the background color of the Axes\n",
    "\n",
    "# Customize axis colors\n",
    "ax.tick_params(axis='x', colors=axis_colour)  # Set x-axis tick color\n",
    "ax.tick_params(axis='y', colors=axis_colour)  # Set y-axis tick color\n",
    "ax.spines['bottom'].set_color(axis_colour)  # Set bottom spine color\n",
    "ax.spines['left'].set_color(axis_colour)    # Set left spine color\n",
    "ax.spines['top'].set_color(axis_colour)  # Set bottom spine color\n",
    "ax.spines['right'].set_color(axis_colour)    # Set left spine color\n",
    "\n",
    "# Plotting\n",
    "\n",
    "# Plot the ROC curve\n",
    "plt.plot(fpr_train, tpr_train, color=roc_train_colour, label=f'Train Data ROC Curve (AUC = {roc_auc_train:.2f})')\n",
    "plt.plot(fpr_test, tpr_test, color=roc_test_colour, label=f'Test data ROC Curve (AUC = {roc_auc_test:.2f})')\n",
    "plt.plot([0, 1], [0, 1], color=guess_colour, linestyle='--', label='Random Guess')\n",
    "plt.xlabel('False Positive Rate', color=text_colour)  # White text for better contrast\n",
    "plt.ylabel('True Positive Rate', color=text_colour)  # White text for better contrast\n",
    "plt.title('Next Best Action Receiver Operating Characteristic (ROC) Curve', color=text_colour)\n",
    "plt.legend(loc='lower right', facecolor=background_color, edgecolor=text_colour, labelcolor=text_colour)\n",
    "plt.grid(alpha=0.1, color=axis_colour)  # Adjust grid line color for visibility\n",
    "\n",
    "# Set the x and y limits to start at 0\n",
    "plt.xlim(0, 1)  # x-axis starts at 0\n",
    "plt.ylim(0, 1)  # y-axis starts at 0\n",
    "\n",
    "plt.show()"
   ]
  },
  {
   "cell_type": "code",
   "execution_count": null,
   "id": "c9344ee4-75c7-47a4-b281-39767f5571b8",
   "metadata": {},
   "outputs": [],
   "source": []
  },
  {
   "cell_type": "code",
   "execution_count": null,
   "id": "44e6312e-e92a-4387-8c31-42ccb730b87b",
   "metadata": {},
   "outputs": [],
   "source": []
  }
 ],
 "metadata": {
  "kernelspec": {
   "display_name": "Python 3 (ipykernel)",
   "language": "python",
   "name": "python3"
  },
  "language_info": {
   "codemirror_mode": {
    "name": "ipython",
    "version": 3
   },
   "file_extension": ".py",
   "mimetype": "text/x-python",
   "name": "python",
   "nbconvert_exporter": "python",
   "pygments_lexer": "ipython3",
   "version": "3.12.7"
  }
 },
 "nbformat": 4,
 "nbformat_minor": 5
}
