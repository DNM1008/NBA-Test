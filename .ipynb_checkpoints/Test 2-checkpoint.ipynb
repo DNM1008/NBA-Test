{
 "cells": [
  {
   "cell_type": "code",
   "execution_count": 2,
   "id": "14c62976-a8fb-4229-b2bd-00ea4697f105",
   "metadata": {
    "execution": {
     "iopub.execute_input": "2024-12-03T11:17:48.087020Z",
     "iopub.status.busy": "2024-12-03T11:17:48.086543Z",
     "iopub.status.idle": "2024-12-03T11:18:01.088478Z",
     "shell.execute_reply": "2024-12-03T11:18:01.086849Z",
     "shell.execute_reply.started": "2024-12-03T11:17:48.086978Z"
    }
   },
   "outputs": [],
   "source": [
    "from annoy import AnnoyIndex\n",
    "from sklearn.compose import ColumnTransformer\n",
    "from sklearn.impute import SimpleImputer\n",
    "import dill\n",
    "import pandas as pd\n",
    "import pandas as pd"
   ]
  },
  {
   "cell_type": "code",
   "execution_count": 6,
   "id": "5e1679b8-dd73-4a22-b122-79b47dcbe85e",
   "metadata": {
    "execution": {
     "iopub.execute_input": "2024-12-03T11:30:53.137362Z",
     "iopub.status.busy": "2024-12-03T11:30:53.135940Z",
     "iopub.status.idle": "2024-12-03T11:30:54.088129Z",
     "shell.execute_reply": "2024-12-03T11:30:54.085946Z",
     "shell.execute_reply.started": "2024-12-03T11:30:53.137331Z"
    }
   },
   "outputs": [
    {
     "name": "stderr",
     "output_type": "stream",
     "text": [
      "Index size is not a multiple of vector size. Ensure you are opening using the same metric you used to create the index.: Success (0)\n"
     ]
    },
    {
     "ename": "OSError",
     "evalue": "Index size is not a multiple of vector size. Ensure you are opening using the same metric you used to create the index.: Success (0)",
     "output_type": "error",
     "traceback": [
      "\u001b[0;31m---------------------------------------------------------------------------\u001b[0m",
      "\u001b[0;31mOSError\u001b[0m                                   Traceback (most recent call last)",
      "Cell \u001b[0;32mIn[6], line 23\u001b[0m\n\u001b[1;32m     19\u001b[0m f \u001b[38;5;241m=\u001b[39m \u001b[38;5;241m46\u001b[39m\n\u001b[1;32m     22\u001b[0m annoy_index \u001b[38;5;241m=\u001b[39m AnnoyIndex(f, \u001b[38;5;124m'\u001b[39m\u001b[38;5;124mangular\u001b[39m\u001b[38;5;124m'\u001b[39m)\n\u001b[0;32m---> 23\u001b[0m \u001b[43mannoy_index\u001b[49m\u001b[38;5;241;43m.\u001b[39;49m\u001b[43mload\u001b[49m\u001b[43m(\u001b[49m\u001b[38;5;124;43m'\u001b[39;49m\u001b[38;5;124;43mresults/annoy_index.ann\u001b[39;49m\u001b[38;5;124;43m'\u001b[39;49m\u001b[43m)\u001b[49m\n\u001b[1;32m     25\u001b[0m \u001b[38;5;28mprint\u001b[39m(annoy_index)\n",
      "\u001b[0;31mOSError\u001b[0m: Index size is not a multiple of vector size. Ensure you are opening using the same metric you used to create the index.: Success (0)"
     ]
    }
   ],
   "source": [
    "def load_saved_model():\n",
    "    with open('results/collaborative_search_model_with_parallel.pkl', 'rb') as f:\n",
    "        saved_objects = dill.load(f)\n",
    "    return saved_objects\n",
    "\n",
    "# Age binning function\n",
    "def labelling(df, col, bin_edges, labels):\n",
    "    # Ensure column is numeric for binning\n",
    "    df[col] = pd.to_numeric(df[col], errors='coerce')\n",
    "    df['Age_group'] = pd.cut(df[col], bins=bin_edges, labels=labels, include_lowest=True, right=False)\n",
    "    return df\n",
    "\n",
    "# Initialize\n",
    "saved_objects = load_saved_model()\n",
    "transformer = saved_objects['transformer']\n",
    "predict_function = saved_objects['predict_nba_parallel']\n",
    "\n",
    "# Read the dimension when loading\n",
    "with open('results/annoy_index_dim.txt', 'r') as f:\n",
    "    annoy_dim = int(f.read())\n",
    "print(anoy_dim)\n",
    "\n",
    "annoy_index = AnnoyIndex(annoy_dim, 'angular')\n",
    "annoy_index.load('results/annoy_index.ann')\n",
    "\n",
    "print(annoy_index)"
   ]
  },
  {
   "cell_type": "code",
   "execution_count": null,
   "id": "848cb788-045c-413a-9976-7000d541636c",
   "metadata": {
    "execution": {
     "iopub.status.busy": "2024-12-03T11:18:01.675329Z",
     "iopub.status.idle": "2024-12-03T11:18:01.675905Z",
     "shell.execute_reply": "2024-12-03T11:18:01.675649Z",
     "shell.execute_reply.started": "2024-12-03T11:18:01.675627Z"
    }
   },
   "outputs": [],
   "source": [
    "test_df = pd.read_csv(\"data-val.csv\")\n",
    "test_point = test_df.iloc[0]\n",
    "print(test_point)"
   ]
  },
  {
   "cell_type": "code",
   "execution_count": null,
   "id": "4e0adfe8-3886-4d47-9ad6-e0c3ab0f8360",
   "metadata": {},
   "outputs": [],
   "source": []
  }
 ],
 "metadata": {
  "kernelspec": {
   "display_name": "Python 3 (ipykernel)",
   "language": "python",
   "name": "python3"
  },
  "language_info": {
   "codemirror_mode": {
    "name": "ipython",
    "version": 3
   },
   "file_extension": ".py",
   "mimetype": "text/x-python",
   "name": "python",
   "nbconvert_exporter": "python",
   "pygments_lexer": "ipython3",
   "version": "3.12.7"
  }
 },
 "nbformat": 4,
 "nbformat_minor": 5
}
